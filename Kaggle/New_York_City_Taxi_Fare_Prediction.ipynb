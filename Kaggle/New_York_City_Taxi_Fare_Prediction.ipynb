{
 "cells": [
  {
   "cell_type": "markdown",
   "metadata": {},
   "source": [
    "# [New York City Taxi Fare Prediction](https://www.kaggle.com/c/new-york-city-taxi-fare-prediction)\n",
    "\n",
    "\n",
    "### Can you predict a rider's taxi fare?"
   ]
  },
  {
   "cell_type": "code",
   "execution_count": null,
   "metadata": {},
   "outputs": [],
   "source": []
  },
  {
   "cell_type": "markdown",
   "metadata": {},
   "source": [
    "- __Overview__"
   ]
  },
  {
   "cell_type": "markdown",
   "metadata": {},
   "source": [
    "In this playground competition, hosted in partnership with Google Cloud and Coursera, \\\n",
    "you are tasked with predicting the fare amount (inclusive of tolls) for a taxi ride in New York City given the pickup and dropoff locations. \\\n",
    "While you can get a basic estimate based on just the distance between the two points, \\\n",
    "this will result in an RMSE of $5-$8, depending on the model used (see the starter code for an example of this approach in Kernels). \\\n",
    "Your challenge is to do better than this using Machine Learning techniques!\n",
    "\n",
    "To learn how to handle large datasets with ease and solve this problem using TensorFlow, \\\n",
    "consider taking the Machine Learning with TensorFlow on Google Cloud Platform specialization on Coursera \\\n",
    "-- the taxi fare problem is one of several real-world problems that are used as case studies in the series of courses. \\\n",
    "To make this easier, head to Coursera.org/NEXTextended to claim this specialization for free for the first month!"
   ]
  },
  {
   "cell_type": "markdown",
   "metadata": {},
   "source": [
    "Google Cloud と Coursera とのパートナーシップで開催されているこのプレイグラウンド・コンペティションでは、\\\n",
    "ニューヨーク市でタクシーに乗った場合の運賃（通行料を含む）を、ピックアップ(乗車)とドロップオフ(降車)の場所を指定して予測する課題があります。\\\n",
    "2点間の距離だけで基本的な推定値を得ることができますが、使用するモデルにもよりますが、RMSE(平均二乗誤差)は5から8になります\\\n",
    "（Kernelsでのこのアプローチの例についてはスターターコードを参照してください）。\\\n",
    "あなたの課題は、機械学習のテクニックを使って、これよりも良い結果を出すことです!\n",
    "\n",
    "大規模なデータセットを簡単に扱い、TensorFlowを使ってこの問題を解決する方法を学ぶには、\\\n",
    "CourseraのMachine Learning with TensorFlow on Google Cloud Platform specializationの受講を検討してください\\\n",
    "-- タクシー料金の問題は、一連のコースでケーススタディとして使用されているいくつかの実世界の問題の1つです。\\\n",
    "これを簡単にするには、Coursera.org/NEXTextendedにアクセスして、最初の1ヶ月間は無料でこのSpecializationを申し込むことができます。"
   ]
  },
  {
   "cell_type": "code",
   "execution_count": null,
   "metadata": {},
   "outputs": [],
   "source": []
  },
  {
   "cell_type": "markdown",
   "metadata": {},
   "source": [
    "- __Data Description__"
   ]
  },
  {
   "cell_type": "markdown",
   "metadata": {},
   "source": [
    "__File descriptions__\n",
    "\n",
    "- train.csv - Input features and target fare_amount values for the training set (about 55M rows).\\\n",
    "特徴量とターゲット(運賃)のトレーニングセット(約5500万行)\n",
    "\n",
    "\n",
    "- test.csv - Input features for the test set (about 10K rows). Your goal is to predict fare_amount for each row.\\\n",
    "特徴量のテストセット(約1000万行) \\\n",
    "ゴールは各行の運賃を予測することです。\n",
    "\n",
    "\n",
    "- sample_submission.csv - a sample submission file in the correct format (columns key and fare_amount). \\\n",
    "This file 'predicts' fare_amount to be $11.35 for all rows, which is the mean fare_amount from the training set.\\\n",
    "サンプル提出ファイルのフォーマット(key列, fare_amount運賃列)"
   ]
  },
  {
   "cell_type": "markdown",
   "metadata": {},
   "source": [
    "__Data fields__\n",
    "\n",
    "\n",
    "__ID__\n",
    "- key - Unique string identifying each row in both the training and test sets.  \\\n",
    "Comprised of pickup_datetime plus a unique integer, but this doesn't matter, it should just be used as a unique ID field.\\\n",
    "Required in your submission CSV. Not necessarily needed in the training set,\\\n",
    "but could be useful to simulate a 'submission file' while doing cross-validation within the training set.\\\n",
    "キー - トレーニングセットとテストセットの各行を識別する一意な文字列。\\\n",
    "pickup_datetimeと一意な整数で構成されていますが、これは重要ではなく、一意なIDフィールドとして使用されるべきです。\\\n",
    "投稿CSVで必須。トレーニングセットでは必ずしも必要ではありませんが、トレーニングセット内でクロスバリデーションを行う際に「投稿ファイル」をシミュレートするのに便利です。\n",
    "\n",
    "\n",
    "__Features__\n",
    "- pickup_datetime - timestamp value indicating when the taxi ride started.\\\n",
    "乗車時刻 - タクシーの乗車開始時刻を示すtimestamp。\n",
    "\n",
    "\n",
    "- pickup_longitude - float for longitude coordinate of where the taxi ride started.\\\n",
    "乗車経度 - タクシーの乗車開始地点の経度座標をfloatで指定。\n",
    "\n",
    "\n",
    "- pickup_latitude - float for latitude coordinate of where the taxi ride started.\\\n",
    "乗車緯度 - タクシーの乗車開始地点の緯度座標をfloatで指定。\n",
    "\n",
    "\n",
    "- dropoff_longitude - float for longitude coordinate of where the taxi ride ended.\\\n",
    "降車経度 - タクシーの終点の経度座標をfloatで指定。\n",
    "\n",
    "\n",
    "- dropoff_latitude - float for latitude coordinate of where the taxi ride ended.\\\n",
    "降車緯度 - タクシーの終点の緯度座標をfloatで指定。\n",
    "\n",
    "\n",
    "- passenger_count - integer indicating the number of passengers in the taxi ride.\\\n",
    "乗客数 - タクシーの乗客数を示すinteger。\n",
    "\n",
    "__Target__\n",
    "- fare_amount - float dollar amount of the cost of the taxi ride. \\\n",
    "This value is only in the training set; this is what you are predicting in the test set and it is required in your submission CSV.\\\n",
    "運賃 - タクシーに乗車時のコストのドル金額をfloatにします。\\\n",
    "この値はトレーニングセットのみで、テストセットで予測する値であり、提出CSVでは必須の値です。"
   ]
  },
  {
   "cell_type": "code",
   "execution_count": null,
   "metadata": {},
   "outputs": [],
   "source": []
  },
  {
   "cell_type": "markdown",
   "metadata": {},
   "source": [
    "- Notebook"
   ]
  },
  {
   "cell_type": "markdown",
   "metadata": {},
   "source": [
    "[紹介ノートブック: NYC Taxi Fare Starter Kernel - Simple Linear Model](https://www.kaggle.com/dster/nyc-taxi-fare-starter-kernel-simple-linear-model)"
   ]
  },
  {
   "cell_type": "markdown",
   "metadata": {},
   "source": [
    "This is a basic Starter Kernel for the New York City Taxi Fare Prediction Playground Competition\\\n",
    "Here we'll use a simple linear model based on the travel vector from the taxi's pickup location to dropoff location which predicts the fare_amount of each ride.\n",
    "\n",
    "This kernel uses some pandas and mostly numpy for the critical work. There are many higher-level libraries you could use instead, for example sklearn or statsmodels."
   ]
  },
  {
   "cell_type": "markdown",
   "metadata": {},
   "source": [
    "これは、ニューヨーク市タクシー料金予測プレイグラウンドコンペティションのための基本的なスターターカーネルです。\\\n",
    "ここでは、タクシーの乗車場所から降車場所までの移動ベクトルに基づいた単純な線形モデルを使用して、各乗車の運賃を予測します。\n",
    "\n",
    "このカーネルはpandasを幾分使用しており、重要な作業のほとんどにnumpyを使用しています。代わりにsklearnやstatsmodelsのような高レベルのライブラリを使うこともできます。"
   ]
  },
  {
   "cell_type": "code",
   "execution_count": 6,
   "metadata": {},
   "outputs": [],
   "source": [
    "# Initial Python environment setup...\n",
    "import numpy as np # linear algebra\n",
    "import pandas as pd # CSV file I/O (e.g. pd.read_csv)\n",
    "import os # reading the input files we have access to\n",
    "\n",
    "#print(os.listdir('../input'))"
   ]
  },
  {
   "cell_type": "markdown",
   "metadata": {},
   "source": [
    "__Setup training data__\\\n",
    "First let's read in our training data. \\\n",
    "Kernels do not yet support enough memory to load the whole dataset at once, at least using pd.read_csv.\\\n",
    "The entire dataset is about 55M rows, so we're skipping a good portion of the data, but it's certainly possible to build a model using all the data."
   ]
  },
  {
   "cell_type": "markdown",
   "metadata": {},
   "source": [
    "まず、トレーニングデータを読み込んでみましょう。\\\n",
    "カーネルはまだデータセット全体を一度に読み込むのに十分なメモリをサポートしていませんが、少なくともpd.read_csvを使用しています。\\\n",
    "データセット全体は約5500万行なので、かなりの部分を読み飛ばしていますが、全てのデータを使ってモデルを構築することは確かに可能です。"
   ]
  },
  {
   "cell_type": "code",
   "execution_count": 10,
   "metadata": {},
   "outputs": [
    {
     "data": {
      "text/plain": [
       "key                   object\n",
       "fare_amount          float64\n",
       "pickup_datetime       object\n",
       "pickup_longitude     float64\n",
       "pickup_latitude      float64\n",
       "dropoff_longitude    float64\n",
       "dropoff_latitude     float64\n",
       "passenger_count        int64\n",
       "dtype: object"
      ]
     },
     "execution_count": 10,
     "metadata": {},
     "output_type": "execute_result"
    }
   ],
   "source": [
    "train_df =  pd.read_csv('train.csv', nrows = 10_000_000)\n",
    "train_df.dtypes"
   ]
  },
  {
   "cell_type": "code",
   "execution_count": 16,
   "metadata": {},
   "outputs": [
    {
     "data": {
      "text/html": [
       "<div>\n",
       "<style scoped>\n",
       "    .dataframe tbody tr th:only-of-type {\n",
       "        vertical-align: middle;\n",
       "    }\n",
       "\n",
       "    .dataframe tbody tr th {\n",
       "        vertical-align: top;\n",
       "    }\n",
       "\n",
       "    .dataframe thead th {\n",
       "        text-align: right;\n",
       "    }\n",
       "</style>\n",
       "<table border=\"1\" class=\"dataframe\">\n",
       "  <thead>\n",
       "    <tr style=\"text-align: right;\">\n",
       "      <th></th>\n",
       "      <th>key</th>\n",
       "      <th>fare_amount</th>\n",
       "      <th>pickup_datetime</th>\n",
       "      <th>pickup_longitude</th>\n",
       "      <th>pickup_latitude</th>\n",
       "      <th>dropoff_longitude</th>\n",
       "      <th>dropoff_latitude</th>\n",
       "      <th>passenger_count</th>\n",
       "      <th>abs_diff_longitude</th>\n",
       "      <th>abs_diff_latitude</th>\n",
       "    </tr>\n",
       "  </thead>\n",
       "  <tbody>\n",
       "    <tr>\n",
       "      <td>0</td>\n",
       "      <td>2009-06-15 17:26:21.0000001</td>\n",
       "      <td>4.5</td>\n",
       "      <td>2009-06-15 17:26:21 UTC</td>\n",
       "      <td>-73.844311</td>\n",
       "      <td>40.721319</td>\n",
       "      <td>-73.841610</td>\n",
       "      <td>40.712278</td>\n",
       "      <td>1</td>\n",
       "      <td>0.002701</td>\n",
       "      <td>0.009041</td>\n",
       "    </tr>\n",
       "    <tr>\n",
       "      <td>1</td>\n",
       "      <td>2010-01-05 16:52:16.0000002</td>\n",
       "      <td>16.9</td>\n",
       "      <td>2010-01-05 16:52:16 UTC</td>\n",
       "      <td>-74.016048</td>\n",
       "      <td>40.711303</td>\n",
       "      <td>-73.979268</td>\n",
       "      <td>40.782004</td>\n",
       "      <td>1</td>\n",
       "      <td>0.036780</td>\n",
       "      <td>0.070701</td>\n",
       "    </tr>\n",
       "    <tr>\n",
       "      <td>2</td>\n",
       "      <td>2011-08-18 00:35:00.00000049</td>\n",
       "      <td>5.7</td>\n",
       "      <td>2011-08-18 00:35:00 UTC</td>\n",
       "      <td>-73.982738</td>\n",
       "      <td>40.761270</td>\n",
       "      <td>-73.991242</td>\n",
       "      <td>40.750562</td>\n",
       "      <td>2</td>\n",
       "      <td>0.008504</td>\n",
       "      <td>0.010708</td>\n",
       "    </tr>\n",
       "    <tr>\n",
       "      <td>3</td>\n",
       "      <td>2012-04-21 04:30:42.0000001</td>\n",
       "      <td>7.7</td>\n",
       "      <td>2012-04-21 04:30:42 UTC</td>\n",
       "      <td>-73.987130</td>\n",
       "      <td>40.733143</td>\n",
       "      <td>-73.991567</td>\n",
       "      <td>40.758092</td>\n",
       "      <td>1</td>\n",
       "      <td>0.004437</td>\n",
       "      <td>0.024949</td>\n",
       "    </tr>\n",
       "    <tr>\n",
       "      <td>4</td>\n",
       "      <td>2010-03-09 07:51:00.000000135</td>\n",
       "      <td>5.3</td>\n",
       "      <td>2010-03-09 07:51:00 UTC</td>\n",
       "      <td>-73.968095</td>\n",
       "      <td>40.768008</td>\n",
       "      <td>-73.956655</td>\n",
       "      <td>40.783762</td>\n",
       "      <td>1</td>\n",
       "      <td>0.011440</td>\n",
       "      <td>0.015754</td>\n",
       "    </tr>\n",
       "  </tbody>\n",
       "</table>\n",
       "</div>"
      ],
      "text/plain": [
       "                             key  fare_amount          pickup_datetime  \\\n",
       "0    2009-06-15 17:26:21.0000001          4.5  2009-06-15 17:26:21 UTC   \n",
       "1    2010-01-05 16:52:16.0000002         16.9  2010-01-05 16:52:16 UTC   \n",
       "2   2011-08-18 00:35:00.00000049          5.7  2011-08-18 00:35:00 UTC   \n",
       "3    2012-04-21 04:30:42.0000001          7.7  2012-04-21 04:30:42 UTC   \n",
       "4  2010-03-09 07:51:00.000000135          5.3  2010-03-09 07:51:00 UTC   \n",
       "\n",
       "   pickup_longitude  pickup_latitude  dropoff_longitude  dropoff_latitude  \\\n",
       "0        -73.844311        40.721319         -73.841610         40.712278   \n",
       "1        -74.016048        40.711303         -73.979268         40.782004   \n",
       "2        -73.982738        40.761270         -73.991242         40.750562   \n",
       "3        -73.987130        40.733143         -73.991567         40.758092   \n",
       "4        -73.968095        40.768008         -73.956655         40.783762   \n",
       "\n",
       "   passenger_count  abs_diff_longitude  abs_diff_latitude  \n",
       "0                1            0.002701           0.009041  \n",
       "1                1            0.036780           0.070701  \n",
       "2                2            0.008504           0.010708  \n",
       "3                1            0.004437           0.024949  \n",
       "4                1            0.011440           0.015754  "
      ]
     },
     "execution_count": 16,
     "metadata": {},
     "output_type": "execute_result"
    }
   ],
   "source": [
    "train_df.head()"
   ]
  },
  {
   "cell_type": "markdown",
   "metadata": {},
   "source": [
    "Let's create two new features in our training set representing the \"travel vector\" between the start and end points of the taxi ride, in both longitude and latitude coordinates. \\\n",
    "We'll take the absolute value since we're only interested in distance traveled.\\\n",
    "Use a helper function since we'll want to do the same thing for the test set later."
   ]
  },
  {
   "cell_type": "markdown",
   "metadata": {},
   "source": [
    "学習セットには、タクシーの始点と終点の間の「移動ベクトル」を、経度と緯度の両方の座標で表す2つの新しい特徴量を作成してみましょう。\\\n",
    "ここでは、移動距離のみに関心があるので、絶対値を使用します。\\\n",
    "後でテストセットに同じことをしたいので、ヘルパー関数を使用します。"
   ]
  },
  {
   "cell_type": "code",
   "execution_count": 11,
   "metadata": {},
   "outputs": [],
   "source": [
    "# Given a dataframe, add two new features 'abs_diff_longitude' and\n",
    "# 'abs_diff_latitude' reprensenting the \"Manhattan vector\" from\n",
    "# the pickup location to the dropoff location.\n",
    "def add_travel_vector_features(df):\n",
    "    df['abs_diff_longitude'] = (df.dropoff_longitude - df.pickup_longitude).abs()\n",
    "    df['abs_diff_latitude'] = (df.dropoff_latitude - df.pickup_latitude).abs()\n",
    "\n",
    "add_travel_vector_features(train_df)"
   ]
  },
  {
   "cell_type": "markdown",
   "metadata": {},
   "source": [
    "Explore and prune outliers\n",
    "First let's see if there are any NaNs in the dataset."
   ]
  },
  {
   "cell_type": "markdown",
   "metadata": {},
   "source": [
    "外れ値を探索して取り除きます。\\\n",
    "まず、データセットにNaNがあるかどうかを見てみましょう。"
   ]
  },
  {
   "cell_type": "code",
   "execution_count": 12,
   "metadata": {},
   "outputs": [
    {
     "name": "stdout",
     "output_type": "stream",
     "text": [
      "key                    0\n",
      "fare_amount            0\n",
      "pickup_datetime        0\n",
      "pickup_longitude       0\n",
      "pickup_latitude        0\n",
      "dropoff_longitude     69\n",
      "dropoff_latitude      69\n",
      "passenger_count        0\n",
      "abs_diff_longitude    69\n",
      "abs_diff_latitude     69\n",
      "dtype: int64\n"
     ]
    }
   ],
   "source": [
    "print(train_df.isnull().sum())"
   ]
  },
  {
   "cell_type": "markdown",
   "metadata": {},
   "source": [
    "There are a small amount, so let's remove them from the dataset."
   ]
  },
  {
   "cell_type": "markdown",
   "metadata": {},
   "source": [
    "少量なので、データセットから削除してみましょう。"
   ]
  },
  {
   "cell_type": "code",
   "execution_count": 13,
   "metadata": {},
   "outputs": [
    {
     "name": "stdout",
     "output_type": "stream",
     "text": [
      "Old size: 10000000\n",
      "New size: 9999931\n"
     ]
    }
   ],
   "source": [
    "print('Old size: %d' % len(train_df))\n",
    "train_df = train_df.dropna(how = 'any', axis = 'rows')\n",
    "print('New size: %d' % len(train_df))"
   ]
  },
  {
   "cell_type": "markdown",
   "metadata": {},
   "source": [
    "Now let's quickly plot a subset of our travel vector features to see its distribution."
   ]
  },
  {
   "cell_type": "markdown",
   "metadata": {},
   "source": [
    "では、移動ベクトル特徴量のサブセットをプロットして、その分布を見てみましょう。"
   ]
  },
  {
   "cell_type": "code",
   "execution_count": 15,
   "metadata": {},
   "outputs": [
    {
     "data": {
      "text/plain": [
       "<AxesSubplot:xlabel='abs_diff_longitude', ylabel='abs_diff_latitude'>"
      ]
     },
     "execution_count": 15,
     "metadata": {},
     "output_type": "execute_result"
    },
    {
     "data": {
      "image/png": "[encoded data removed]",
      "text/plain": [
       "<Figure size 432x288 with 1 Axes>"
      ]
     },
     "metadata": {
      "needs_background": "light"
     },
     "output_type": "display_data"
    }
   ],
   "source": [
    "plot = train_df.iloc[:2000].plot.scatter('abs_diff_longitude', 'abs_diff_latitude')\n",
    "plot"
   ]
  },
  {
   "cell_type": "markdown",
   "metadata": {},
   "source": [
    "We expect most of these values to be very small (likely between 0 and 1) since it should all be differences between GPS coordinates within one city. \\\n",
    "For reference, one degree of latitude is about 69 miles.\\\n",
    "However, we can see the dataset has extreme values which do not make sense.\\\n",
    "Let's remove those values from our training set.\\\n",
    "Based on the scatterplot, it looks like we can safely exclude values above 5 (though remember the scatterplot is only showing the first 2000 rows...)"
   ]
  },
  {
   "cell_type": "markdown",
   "metadata": {},
   "source": [
    "これらの値のほとんどは、1つの都市内でのGPS座標の違いであるため、非常に小さな値（0と1の間の可能性が高い）になると予想しています。\\\n",
    "参考までに、緯度1度は約69マイル(約111キロ)です。\\\n",
    "しかし、このデータセットには意味をなさない極端な値があることがわかります。\\\n",
    "これらの値をトレーニングセットから削除してみましょう。\\\n",
    "散布図を見ると、5以上の値は安全に除外できそうです（ただし、散布図は最初の2000行しか表示されていないことに注意してください...）。"
   ]
  },
  {
   "cell_type": "code",
   "execution_count": 17,
   "metadata": {},
   "outputs": [
    {
     "name": "stdout",
     "output_type": "stream",
     "text": [
      "Old size: 9999931\n",
      "New size: 9979187\n"
     ]
    }
   ],
   "source": [
    "print('Old size: %d' % len(train_df))\n",
    "train_df = train_df[(train_df.abs_diff_longitude < 5.0) & (train_df.abs_diff_latitude < 5.0)]\n",
    "print('New size: %d' % len(train_df))"
   ]
  },
  {
   "cell_type": "markdown",
   "metadata": {},
   "source": [
    "__Train our model__\\\n",
    "Our model will take the form  X⋅w=y  where  X  is a matrix of input features, and  y  is a column of the target variable, fare_amount, for each row. \\\n",
    "The weight column  w  is what we will \"learn\".\n",
    "\n",
    "First let's setup our input matrix  X  and target column  y  from our training set.\\\n",
    "The matrix  X  should consist of the two GPS coordinate differences, plus a third term of 1 to allow the model to learn a constant bias term.\\\n",
    "The column  y  should consist of the target fare_amount values."
   ]
  },
  {
   "cell_type": "markdown",
   "metadata": {},
   "source": [
    "モデルは y = w*X の形式を取り、X は入力特徴量の行列で、y は各行の目標変数 fare_amount の列です。\\\n",
    "重みの列 w は「学習」するものです。\n",
    "\n",
    "まず、学習セットから入力行列 X と目標変数 y を設定します。\\\n",
    "行列Xは、2つのGPS座標差と、モデルが一定のバイアス項を学習できるようにするための3番目の列 1を加えたものであるべきです。\\\n",
    "y 列は，目標とする fare_amount の値から構成されるべきです．"
   ]
  },
  {
   "cell_type": "code",
   "execution_count": 18,
   "metadata": {},
   "outputs": [
    {
     "name": "stdout",
     "output_type": "stream",
     "text": [
      "(9979187, 3)\n",
      "(9979187,)\n"
     ]
    }
   ],
   "source": [
    "# Construct and return an Nx3 input matrix for our linear model\n",
    "# using the travel vector, plus a 1.0 for a constant bias term.\n",
    "def get_input_matrix(df):\n",
    "    return np.column_stack((df.abs_diff_longitude, df.abs_diff_latitude, np.ones(len(df))))\n",
    "\n",
    "train_X = get_input_matrix(train_df)\n",
    "train_y = np.array(train_df['fare_amount'])\n",
    "\n",
    "print(train_X.shape)\n",
    "print(train_y.shape)"
   ]
  },
  {
   "cell_type": "markdown",
   "metadata": {},
   "source": [
    "Now let's use numpy's lstsq library function to find the optimal weight column  w ."
   ]
  },
  {
   "cell_type": "markdown",
   "metadata": {},
   "source": [
    "では、numpy の lstsq ライブラリ関数を使って、最適な重み列 w を求めてみましょう。"
   ]
  },
  {
   "cell_type": "code",
   "execution_count": 22,
   "metadata": {},
   "outputs": [
    {
     "name": "stdout",
     "output_type": "stream",
     "text": [
      "[147.16176525  76.95503724   6.39545245]\n"
     ]
    }
   ],
   "source": [
    "# The lstsq function returns several things, and we only care about the actual weight vector w.\n",
    "(w, _, _, _) = np.linalg.lstsq(train_X, train_y, rcond = None)\n",
    "print(w)"
   ]
  },
  {
   "cell_type": "markdown",
   "metadata": {},
   "source": [
    "These weights pass a quick sanity check, since we'd expect the first two values -- the weights for the absolute longitude and latitude differences -- to be positive, as more distance should imply a higher fare, and we'd expect the bias term to loosely represent the cost of a very short ride.\n",
    "\n",
    "\n",
    "Sidenote: we can actually calculate the weight column  w  directly using the Ordinary Least Squares method:  w=(XT⋅X)−1⋅XT⋅y"
   ]
  },
  {
   "cell_type": "markdown",
   "metadata": {},
   "source": [
    "重みは正当性チェックを簡単に通す。なぜなら、最初の2つの値（絶対経度と緯度の差の重み）は正の値になると予想され、距離が長いほど運賃が高いことを意味し、バイアス項は非常に短い乗車のコストをゆるく表していると予想されるからです。\n",
    "\n",
    "注：実際には正規方程式を使って重みの列wを直接計算することができます。"
   ]
  },
  {
   "cell_type": "code",
   "execution_count": 23,
   "metadata": {},
   "outputs": [
    {
     "name": "stdout",
     "output_type": "stream",
     "text": [
      "[147.16176525  76.95503724   6.39545245]\n"
     ]
    }
   ],
   "source": [
    "w_OLS = np.matmul(np.matmul(np.linalg.inv(np.matmul(train_X.T, train_X)), train_X.T), train_y)\n",
    "print(w_OLS)"
   ]
  },
  {
   "cell_type": "markdown",
   "metadata": {},
   "source": [
    "__Make predictions on the test set__\\\n",
    "Now let's load up our test inputs and predict the fare_amounts for them using our learned weights!"
   ]
  },
  {
   "cell_type": "markdown",
   "metadata": {},
   "source": [
    "では、テストセットをロードして、学習した重みを使って、それらの入力に対する運賃を予測してみましょう。"
   ]
  },
  {
   "cell_type": "code",
   "execution_count": 25,
   "metadata": {},
   "outputs": [
    {
     "data": {
      "text/plain": [
       "key                   object\n",
       "pickup_datetime       object\n",
       "pickup_longitude     float64\n",
       "pickup_latitude      float64\n",
       "dropoff_longitude    float64\n",
       "dropoff_latitude     float64\n",
       "passenger_count        int64\n",
       "dtype: object"
      ]
     },
     "execution_count": 25,
     "metadata": {},
     "output_type": "execute_result"
    }
   ],
   "source": [
    "test_df = pd.read_csv('test.csv')\n",
    "test_df.dtypes"
   ]
  },
  {
   "cell_type": "code",
   "execution_count": 26,
   "metadata": {},
   "outputs": [
    {
     "name": "stdout",
     "output_type": "stream",
     "text": [
      "['.DS_Store', 'input', 'test.csv', 'submission.csv', 'GCP-Coupons-Instructions.rtf', 'train.csv', '.ipynb_checkpoints', 'New York City Taxi Fare Prediction.ipynb', 'sample_submission.csv']\n"
     ]
    }
   ],
   "source": [
    "# Reuse the above helper functions to add our features and generate the input matrix.\n",
    "add_travel_vector_features(test_df)\n",
    "test_X = get_input_matrix(test_df)\n",
    "# Predict fare_amount on the test set using our model (w) trained on the training set.\n",
    "test_y_predictions = np.matmul(test_X, w).round(decimals = 2)\n",
    "\n",
    "# Write the predictions to a CSV file which we can submit to the competition.\n",
    "submission = pd.DataFrame(\n",
    "    {'key': test_df.key, 'fare_amount': test_y_predictions},\n",
    "    columns = ['key', 'fare_amount'])\n",
    "submission.to_csv('submission.csv', index = False)\n",
    "\n",
    "print(os.listdir('.'))"
   ]
  },
  {
   "cell_type": "markdown",
   "metadata": {},
   "source": [
    "__Ideas for Improvement__\\\n",
    "The output here will score an RMSE of $5.74, but you can do better than that! Here are some suggestions:\n",
    "\n",
    "- Use more columns from the input data. Here we're only using the start/end GPS points from columns [pickup|dropoff]_[latitude|longitude]. Try to see if the other columns -- pickup_datetime and passenger_count -- can help improve your results.\n",
    "\n",
    "\n",
    "- Use absolute location data rather than relative. Here we're only looking at the difference between the start and end points, but maybe the actual values -- indicating where in NYC the taxi is traveling -- would be useful.\n",
    "\n",
    "\n",
    "- Use a non-linear model to capture more intricacies within the data.\n",
    "Try to find more outliers to prune, or construct useful feature crosses.\n",
    "\n",
    "\n",
    "- Use the entire dataset -- here we're only using about 20% of the training data!"
   ]
  },
  {
   "cell_type": "markdown",
   "metadata": {},
   "source": [
    "ここでの出力は5.74ドルのRMSEをスコアですが、それ以上のことができます! ここにいくつかの提案があります。\n",
    "\n",
    "- 入力データからより多くの列を使用します。ここでは、[pickup|dropoff]_[latitude|longitude]列からの開始/終了GPSポイントのみを使用しています。\n",
    "他の列 -- pickup_datetime と passenger_count -- が結果を改善するのに役立つかどうか試してみてください。\n",
    "\n",
    "\n",
    "- 相対的な位置データではなく、絶対的な位置データを使用してください。\n",
    "ここでは開始点と終了点の差だけを見ていますが、実際の値（NYCのどこにタクシーが移動しているかを示す）が役に立つかもしれません。\n",
    "\n",
    "\n",
    "- 非線形モデルを使用して、データ内のより複雑な部分をキャプチャします。\n",
    "より多くの外れ値を見つけて剪定したり、有用な特徴のクロスを構築したりしてみてください。\n",
    "\n",
    "\n",
    "- データセット全体を使用する -- ここでは訓練データの約20%しか使用していない!"
   ]
  }
 ],
 "metadata": {
  "kernelspec": {
   "display_name": "Python 3",
   "language": "python",
   "name": "python3"
  },
  "language_info": {
   "codemirror_mode": {
    "name": "ipython",
    "version": 3
   },
   "file_extension": ".py",
   "mimetype": "text/x-python",
   "name": "python",
   "nbconvert_exporter": "python",
   "pygments_lexer": "ipython3",
   "version": "3.7.4"
  }
 },
 "nbformat": 4,
 "nbformat_minor": 2
}
