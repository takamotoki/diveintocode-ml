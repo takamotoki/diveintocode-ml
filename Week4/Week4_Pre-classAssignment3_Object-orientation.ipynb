{
 "cells": [
  {
   "cell_type": "markdown",
   "metadata": {},
   "source": [
    "### 【問題1】これまで利用してきたクラスの列挙\n",
    "クラスを使う際はインスタンス化を行うことと、クラスの命名法がわかりました。この情報を元に、これまでの課題で利用してきたコードの中でどのようなクラスがあったかを答えてください。\n",
    "\n",
    "\n",
    "Pandas、matplotlib、scikit-learnからそれぞれ1つ以上見つけてください。\n",
    "\n",
    "\n",
    "<u>メソッド</u>\\\n",
    "インスタンス化を行った後には、`scaler.fit(X)`のような __メソッド__ の実行ができます。`StandardScaler`の`fit`メソッドは後でスケーリングに使われる平均と標準偏差を計算する機能があります。\n",
    "\n",
    "\n",
    "<u>インスタンス変数（アトリビュート）</u>\\\n",
    "`fit`メソッドにより平均と標準偏差が計算されましたが、見た目には変化があるわけではありません。しかし、scalerインスタンスの内部では計算結果が保存されています。こういったインスタンスの中で値を保存するものを __インスタンス変数__ や __アトリビュート（属性）__ と呼びます。ここで平均が`scaler.mean_`、標準偏差の2乗した値である分散が`scaler.var_`に保存されています。\n",
    "\n",
    "\n",
    "以下のようにprint文で出力させることができます。\n",
    "\n",
    "\n",
    "print(`\"平均 : {}\"`.format(scaler.mean_)) # 平均 : [4.86 3.31 1.45 0.22]\\\n",
    "print(`\"分散 : {}\"`.format(scaler.var_)) # 分散 : [0.0764 0.0849 0.0105 0.0056]\n",
    "\n",
    "__《メソッドとインスタンス変数の命名法》__\n",
    "\n",
    "\n",
    "メソッドやインスタンス変数の命名は関数と同様に、全て小文字で行います。単語をつなぐときにはアンダースコアを入れます。\n",
    "\n",
    "\n",
    "[はじめに — pep8-ja 1.0 ドキュメント メソッド名とインスタンス変数](https://pep8-ja.readthedocs.io/ja/latest/#id37)"
   ]
  },
  {
   "cell_type": "markdown",
   "metadata": {},
   "source": [
    "- __これまでの課題で利用してきたコードの中でどのようなクラスがあったか__\n",
    " 1. Pandas DataFrame\n",
    " 2. matplotlib ListedColormap\n",
    " 3. scikit-learn KNeighborsClassifier"
   ]
  },
  {
   "cell_type": "markdown",
   "metadata": {},
   "source": [
    "### 【問題2】これまで利用してきたメソッドやインスタンス変数の列挙\n",
    "これまでの課題で利用してきたコードの中でどのようなメソッドやインスタンス変数があったかを答えてください。\n",
    "\n",
    "\n",
    "最低でもそれぞれ5つ以上答えてください。\n",
    "\n",
    "\n",
    "__《ndarrayやstrもインスタンス》__\n",
    "\n",
    "\n",
    "ドットをつけるというと、NumPyのndarrayに対して`ndarray.shape`や`ndarray.sum()`のような使い方は何度も利用してきたかと思います。これは、ndarrayもインスタンスオブジェクトであり、`shape`はインスタンス変数、`sum`はメソッドだったということです。\n",
    "\n",
    "\n",
    "Pythonのコードに登場するデータはどれもインスタンスオブジェクトであり、listやstrもメソッドを持ちます。\n",
    "\n",
    "\n",
    "（例）\n",
    "\n",
    "\n",
    "[5. データ構造 — Python 3.7.4 ドキュメント 5.1. リスト型についてもう少し](https://docs.python.org/ja/3/tutorial/datastructures.html#more-on-lists)\n",
    "\n",
    "\n",
    "l = [`'a'`]\\\n",
    "l.append(`'b'`) # listのappendメソッド\n",
    "\n",
    "[4. 組み込み型 — Python 3.7.4 ドキュメント 文字列メソッド](https://docs.python.org/ja/3/library/stdtypes.html#string-methods)\n",
    "\n",
    "\n",
    "s = `'Hello, World!'`\\\n",
    "s.find(`'W'`) # strのfindメソッド\n",
    "\n",
    "インスタンス変数をメソッドが利用\n",
    "最終的に以下のようにして標準化を行います。\n",
    "\n",
    "\n",
    "`X_std = scaler.transform(X)`\n",
    "\n",
    "\n",
    "これは`fit`メソッドで計算したことでインスタンス変数`mean_`や`var_`に保存されていた値を使い、Xを変換したということです。\n",
    "\n",
    "\n",
    "このようにクラスには複数のメソッドやインスタンス変数が存在し、これらを組み合わせていろいろな機能を実現します。"
   ]
  },
  {
   "cell_type": "markdown",
   "metadata": {},
   "source": [
    "- __これまでの課題で利用してきたコードの中でどのようなメソッドやインスタンス変数があったか__\\\n",
    "    《メソッド》\n",
    " 1. .mean()\n",
    " 2. .sum()\n",
    " 3. .count()\n",
    " 4. .sort()\n",
    " 5. .find()\\\n",
    "    《インスタンス変数》\n",
    " 1. dtype\n",
    " 2. size\n",
    " 3. T\n",
    " 4. ndim\n",
    " 5. shape"
   ]
  },
  {
   "cell_type": "markdown",
   "metadata": {},
   "source": [
    "### 【問題3】標準化クラスをスクラッチで作成\n",
    "理解をより深めるため、`StandardScaler`をスクラッチで作成しましょう。scikit-learnは使わず、NumPyなどを活用して標準化の計算を記述します。具体的には`fit`メソッドと`transform`メソッドを作ります。\n",
    "\n",
    "\n",
    "今回は雛形を用意しました。クラスの作成方法は関数に近いです。メソッドはクラスの中にさらにインデントを一段下げて記述します。\n",
    "\n",
    "\n",
    "インスタンス変数を作成する際は`self.mean_`のように`self`を付けます。クラスの外から`scaler.mean_`と書いていたscalerの部分が自分自身を表すselfになっています。"
   ]
  },
  {
   "cell_type": "code",
   "execution_count": 1,
   "metadata": {},
   "outputs": [],
   "source": [
    "import numpy as np\n",
    "from sklearn.datasets import load_iris"
   ]
  },
  {
   "cell_type": "code",
   "execution_count": 2,
   "metadata": {},
   "outputs": [],
   "source": [
    "class ScratchStandardScaler():\n",
    "    \"\"\"\n",
    "    標準化のためのクラス\n",
    "\n",
    "    Attributes\n",
    "    ----------\n",
    "    mean_ : 次の形のndarray, shape(n_features,)\n",
    "        平均\n",
    "    var_ : 次の形のndarray, shape(n_features,)\n",
    "        分散\n",
    "    \"\"\"\n",
    "    def fit(self, X):\n",
    "        \"\"\"\n",
    "        標準化のために平均と標準偏差を計算する。\n",
    "\n",
    "        Parameters\n",
    "        ----------\n",
    "        X : 次の形のndarray, shape (n_samples, n_features)\n",
    "            訓練データ\n",
    "        \"\"\"\n",
    "        self.mean_ = X.mean(axis=0)\n",
    "        self.var_ = X.var(axis=0) #np.var(X, axis=0)\n",
    "    def transform(self, X):\n",
    "        \"\"\"\n",
    "        fitで求めた値を使い標準化を行う。\n",
    "\n",
    "        Parameters\n",
    "        ----------\n",
    "        X : 次の形のndarray, shape (n_samples, n_features)\n",
    "            特徴量\n",
    "\n",
    "        Returns\n",
    "        ----------\n",
    "        X_scaled : 次の形のndarray, shape (n_samples, n_features)\n",
    "            標準化された特緒量\n",
    "        \"\"\"\n",
    "        X_scaled = (X - self.mean_) / np.sqrt(self.var_)\n",
    "        return X_scaled"
   ]
  },
  {
   "cell_type": "code",
   "execution_count": 3,
   "metadata": {},
   "outputs": [
    {
     "name": "stdout",
     "output_type": "stream",
     "text": [
      "平均 : [4.86 3.31 1.45 0.22]\n",
      "分散 : [0.0764 0.0849 0.0105 0.0056]\n",
      "[[ 0.86828953  0.65207831 -0.48795004 -0.26726124]\n",
      " [ 0.14471492 -1.06391725 -0.48795004 -0.26726124]\n",
      " [-0.57885968 -0.37751902 -1.46385011 -0.26726124]\n",
      " [-0.94064699 -0.72071813  0.48795004 -0.26726124]\n",
      " [ 0.50650222  0.99527742 -0.48795004 -0.26726124]\n",
      " [ 1.95365143  2.02487476  2.43975018  2.40535118]\n",
      " [-0.94064699  0.3088792  -0.48795004  1.06904497]\n",
      " [ 0.50650222  0.3088792   0.48795004 -0.26726124]\n",
      " [-1.66422159 -1.40711636 -0.48795004 -0.26726124]\n",
      " [ 0.14471492 -0.72071813  0.48795004 -1.60356745]]\n"
     ]
    }
   ],
   "source": [
    "data = load_iris()\n",
    "X = data.data[:10]\n",
    "scratch_scaler = ScratchStandardScaler()\n",
    "scratch_scaler.fit(X)\n",
    "print(\"平均 : {}\".format(scratch_scaler.mean_))\n",
    "print(\"分散 : {}\".format(scratch_scaler.var_))\n",
    "X_std = scratch_scaler.transform(X)\n",
    "print(X_std)"
   ]
  },
  {
   "cell_type": "markdown",
   "metadata": {},
   "source": [
    "### 【問題4】 四則演算を行うクラスの作成\n",
    "上記ExampleClassは足し算のメソッドを持っていますが、これに引き算、掛け算、割り算のメソッドを加えてください。\n",
    "\n",
    "\n",
    "コンストラクタに入力されたvalueが文字列や配列など数値以外だった場合にはエラーを出すようにしてください。\n",
    "\n",
    "\n",
    "クラス名や説明文も適切に書き換えてください。"
   ]
  },
  {
   "cell_type": "code",
   "execution_count": 4,
   "metadata": {},
   "outputs": [],
   "source": [
    "def error_message(err):\n",
    "    print(\"エラーが発生しました。\")\n",
    "    print(type(err), err)"
   ]
  },
  {
   "cell_type": "code",
   "execution_count": 5,
   "metadata": {},
   "outputs": [],
   "source": [
    "class FourArithmeticalOperations():\n",
    "    \"\"\"\n",
    "    加減乗除を行うクラス\n",
    "\n",
    "    Parameters\n",
    "    ----------\n",
    "    value : float\n",
    "        初期値\n",
    "\n",
    "    Attributes\n",
    "    ----------\n",
    "    value : float\n",
    "        計算結果\n",
    "    \"\"\"        \n",
    "    def __init__(self, value):\n",
    "        try:\n",
    "            #raise Exception\n",
    "            self.value = float(value)\n",
    "            print(\"初期値{}が設定されました\".format(self.value))\n",
    "        except Exception as error:\n",
    "            error_message(error)\n",
    "\n",
    "    def add(self, value2):\n",
    "        \"\"\"\n",
    "        受け取った引数をself.valueに加える\n",
    "        \"\"\"\n",
    "        try:\n",
    "            self.value += float(value2)\n",
    "        except Exception as error:\n",
    "            error_message(error)\n",
    "\n",
    "    def subtract(self, value3):\n",
    "        \"\"\"\n",
    "        受け取った引数をself.valueから引く\n",
    "        \"\"\"\n",
    "        try:\n",
    "            self.value -= float(value3)\n",
    "        except Exception as error:\n",
    "            error_message(error)\n",
    "\n",
    "    def multiply(self, value4):\n",
    "        \"\"\"\n",
    "        受け取った引数をself.valueに掛ける\n",
    "        \"\"\"\n",
    "        try:\n",
    "            self.value *= float(value4)\n",
    "        except Exception as error:\n",
    "            error_message(error)\n",
    "\n",
    "    def divide(self, value5):\n",
    "        \"\"\"\n",
    "        受け取った引数をself.valueに除する\n",
    "        \"\"\"\n",
    "        try:\n",
    "            self.value /= float(value5)\n",
    "        except Exception as error:\n",
    "            error_message(error)"
   ]
  },
  {
   "cell_type": "code",
   "execution_count": 6,
   "metadata": {},
   "outputs": [
    {
     "name": "stdout",
     "output_type": "stream",
     "text": [
      "初期値5.0が設定されました\n",
      "value : 5.0\n",
      "value : 8.0\n",
      "value : 5.0\n",
      "value : 15.0\n",
      "value : 5.0\n"
     ]
    }
   ],
   "source": [
    "example = FourArithmeticalOperations(5)\n",
    "print(\"value : {}\".format(example.value))\n",
    "example.add(3)\n",
    "print(\"value : {}\".format(example.value))\n",
    "example.subtract(3)\n",
    "print(\"value : {}\".format(example.value))\n",
    "example.multiply(3)\n",
    "print(\"value : {}\".format(example.value))\n",
    "example.divide(3)\n",
    "print(\"value : {}\".format(example.value))"
   ]
  }
 ],
 "metadata": {
  "kernelspec": {
   "display_name": "Python 3",
   "language": "python",
   "name": "python3"
  },
  "language_info": {
   "codemirror_mode": {
    "name": "ipython",
    "version": 3
   },
   "file_extension": ".py",
   "mimetype": "text/x-python",
   "name": "python",
   "nbconvert_exporter": "python",
   "pygments_lexer": "ipython3",
   "version": "3.7.4"
  }
 },
 "nbformat": 4,
 "nbformat_minor": 2
}
