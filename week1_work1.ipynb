{
 "cells": [
  {
   "cell_type": "markdown",
   "metadata": {},
   "source": [
    "# Week1授業前課題1 Pythonを使ってみよう"
   ]
  },
  {
   "cell_type": "markdown",
   "metadata": {},
   "source": [
    "## 【問題1】べき乗の算術演算子を使用して作成"
   ]
  },
  {
   "cell_type": "code",
   "execution_count": 1,
   "metadata": {},
   "outputs": [
    {
     "name": "stdout",
     "output_type": "stream",
     "text": [
      "厚さ： 703687441.77664メートル\n"
     ]
    }
   ],
   "source": [
    "THICKNESS = 0.00008\n",
    "folded_thickness = THICKNESS*2**43\n",
    "print(\"厚さ： {}メートル\".format(folded_thickness))"
   ]
  },
  {
   "cell_type": "markdown",
   "metadata": {},
   "source": [
    "## 【問題2】単位の変換"
   ]
  },
  {
   "cell_type": "code",
   "execution_count": 2,
   "metadata": {},
   "outputs": [
    {
     "name": "stdout",
     "output_type": "stream",
     "text": [
      "厚さ： 703687.44キロメートル\n"
     ]
    }
   ],
   "source": [
    "THICKNESS = 0.00008\n",
    "folded_thickness = THICKNESS*2**43\n",
    "\n",
    "# メートルをキロメートルに変換して小数点以下2桁で表示する\n",
    "print(\"厚さ： {:.2f}キロメートル\".format(folded_thickness/1000))"
   ]
  },
  {
   "cell_type": "markdown",
   "metadata": {},
   "source": [
    "## 【問題3】for文を使用して作成"
   ]
  },
  {
   "cell_type": "code",
   "execution_count": 3,
   "metadata": {},
   "outputs": [
    {
     "name": "stdout",
     "output_type": "stream",
     "text": [
      "厚さ： 703687.44キロメートル\n"
     ]
    }
   ],
   "source": [
    "THICKNESS = 0.00008\n",
    "temp_thickness = THICKNESS\n",
    "for count in range(43):\n",
    "    folded_thickness = temp_thickness * 2\n",
    "    temp_thickness = folded_thickness\n",
    "\n",
    "# キロメートル単位の小数点以下2桁で表示\n",
    "print(\"厚さ： {:.2f}キロメートル\".format(folded_thickness/1000))"
   ]
  },
  {
   "cell_type": "markdown",
   "metadata": {},
   "source": [
    "## 【問題4】計算時間の比較"
   ]
  },
  {
   "cell_type": "code",
   "execution_count": 4,
   "metadata": {},
   "outputs": [],
   "source": [
    "import time"
   ]
  },
  {
   "cell_type": "code",
   "execution_count": 5,
   "metadata": {},
   "outputs": [
    {
     "name": "stdout",
     "output_type": "stream",
     "text": [
      "time : 0.000141143798828125[s]\n"
     ]
    }
   ],
   "source": [
    "start = time.time()\n",
    "THICKNESS = 0.00008\n",
    "# 比較コード--------------------------------\n",
    "folded_thickness = THICKNESS*2**43\n",
    "# -------------------------------------------\n",
    "elapsed_time = time.time() - start\n",
    "print(\"time : {}[s]\".format(elapsed_time))"
   ]
  },
  {
   "cell_type": "code",
   "execution_count": 6,
   "metadata": {},
   "outputs": [
    {
     "name": "stdout",
     "output_type": "stream",
     "text": [
      "time : 0.00021409988403320312[s]\n"
     ]
    }
   ],
   "source": [
    "start = time.time()\n",
    "THICKNESS = 0.00008\n",
    "# 比較コード--------------------------------\n",
    "temp_thickness = THICKNESS\n",
    "for count in range(43):\n",
    "    folded_thickness = temp_thickness * 2\n",
    "    temp_thickness = folded_thickness\n",
    "# -------------------------------------------\n",
    "elapsed_time = time.time() - start\n",
    "print(\"time : {}[s]\".format(elapsed_time))"
   ]
  },
  {
   "cell_type": "markdown",
   "metadata": {},
   "source": [
    "- 計算時間の関係\\\n",
    "(1) べき乗の算術演算子を使用\\\n",
    "　for文を使用した場合と比較すると計算速度が早い。\\\n",
    "　numpy、pandasなどを使用する場合にはベクトル演算を意識する。\\\n",
    "(2) for文を使用\\\n",
    "　べき乗の算術演算子を使用した場合と比較すると計算速度が遅い。\n",
    "\n",
    "\n",
    "- どちらの書き方が良いか\\\n",
    "　「べき乗の算術演算子」の書き方が、計算速度の観点だけでなく、\\\n",
    "　下記の点においても良いと思われる。\\\n",
    "　「for文を使用」した場合では、folded_thickness変数の他に、\\\n",
    "　temp_thickness変数を使用してメモリ領域を消費している。"
   ]
  },
  {
   "cell_type": "markdown",
   "metadata": {},
   "source": [
    "## 【問題5】リストへの保存"
   ]
  },
  {
   "cell_type": "code",
   "execution_count": 39,
   "metadata": {},
   "outputs": [
    {
     "name": "stdout",
     "output_type": "stream",
     "text": [
      "44\n"
     ]
    }
   ],
   "source": [
    "THICKNESS = 0.00008\n",
    "folded_thickness = []\n",
    "temp_thickness = THICKNESS\n",
    "folded_thickness.append(temp_thickness)\n",
    "for count in range(1, 44):\n",
    "    folded_thickness.append(temp_thickness * 2)\n",
    "    temp_thickness = folded_thickness[count]\n",
    "\n",
    "print(len(folded_thickness))"
   ]
  },
  {
   "cell_type": "markdown",
   "metadata": {},
   "source": [
    "## 【問題6】折れ線グラフの表示"
   ]
  },
  {
   "cell_type": "code",
   "execution_count": 8,
   "metadata": {},
   "outputs": [
    {
     "data": {
      "image/png": "[encoded data removed]",
      "text/plain": [
       "<Figure size 432x288 with 1 Axes>"
      ]
     },
     "metadata": {
      "needs_background": "light"
     },
     "output_type": "display_data"
    }
   ],
   "source": [
    "import matplotlib.pyplot as plt\n",
    "%matplotlib inline\n",
    "\n",
    "THICKNESS = 0.00008\n",
    "folded_thickness = []\n",
    "temp_thickness = THICKNESS\n",
    "folded_thickness.append(temp_thickness)\n",
    "for count in range(1, 44):\n",
    "    folded_thickness.append(temp_thickness * 2)\n",
    "    temp_thickness = folded_thickness[count]\n",
    "\n",
    "plt.title(\"thickness of folded paper\")\n",
    "plt.xlabel(\"number of folds\")\n",
    "plt.ylabel(\"thickness[m]\")\n",
    "plt.plot(folded_thickness)\n",
    "plt.show()"
   ]
  },
  {
   "cell_type": "markdown",
   "metadata": {},
   "source": [
    "- 考察\\\n",
    "雛形のグラフでは、\\\n",
    "35回あたりまでの紙を折り曲げた厚みは、横ばいに推移しているグラフに観える。\\\n",
    "指数関数の値は急激に増加する性質があり、36回あたり以降から急激に増加する。\\\n",
    "問題7のグラフのカスタマイズにて可視化を促進する。"
   ]
  },
  {
   "cell_type": "markdown",
   "metadata": {},
   "source": [
    "## 【問題7】グラフのカスタマイズ"
   ]
  },
  {
   "cell_type": "code",
   "execution_count": 17,
   "metadata": {},
   "outputs": [],
   "source": [
    "import matplotlib.pyplot as plt\n",
    "%matplotlib inline"
   ]
  },
  {
   "cell_type": "code",
   "execution_count": 19,
   "metadata": {},
   "outputs": [],
   "source": [
    "THICKNESS = 0.00008\n",
    "folded_thickness = []\n",
    "temp_thickness = THICKNESS\n",
    "folded_thickness.append(temp_thickness)\n",
    "for count in range(1, 44):\n",
    "    folded_thickness.append(temp_thickness * 2)\n",
    "    temp_thickness = folded_thickness[count]"
   ]
  },
  {
   "cell_type": "markdown",
   "metadata": {},
   "source": [
    "＜1種類目＞\n",
    "- 線の色を青と赤以外にする。\n",
    "- 線を太くする。"
   ]
  },
  {
   "cell_type": "code",
   "execution_count": 26,
   "metadata": {},
   "outputs": [
    {
     "data": {
      "image/png": "[encoded data removed]",
      "text/plain": [
       "<Figure size 432x288 with 1 Axes>"
      ]
     },
     "metadata": {
      "needs_background": "light"
     },
     "output_type": "display_data"
    }
   ],
   "source": [
    "plt.title(\"thickness of folded paper\")\n",
    "plt.xlabel(\"number of folds\")\n",
    "plt.ylabel(\"thickness[m]\")\n",
    "plt.plot(folded_thickness, color='green', linewidth=3) # color, linewidth を指定\n",
    "plt.show()"
   ]
  },
  {
   "cell_type": "markdown",
   "metadata": {},
   "source": [
    "＜2種類目＞\n",
    "- 線を点線にする。\n",
    "- 値のフォントサイズを変更する。"
   ]
  },
  {
   "cell_type": "code",
   "execution_count": 25,
   "metadata": {},
   "outputs": [
    {
     "data": {
      "image/png": "[encoded data removed]",
      "text/plain": [
       "<Figure size 432x288 with 1 Axes>"
      ]
     },
     "metadata": {
      "needs_background": "light"
     },
     "output_type": "display_data"
    }
   ],
   "source": [
    "plt.title(\"thickness of folded paper\", fontsize='large') # fontsize を指定\n",
    "plt.xlabel(\"number of folds\", fontsize='large') # fontsize を指定\n",
    "plt.ylabel(\"thickness[m]\", fontsize='large') # fontsize を指定\n",
    "plt.plot(folded_thickness, linestyle='dashed') # linestyle を指定\n",
    "plt.show()"
   ]
  },
  {
   "cell_type": "markdown",
   "metadata": {},
   "source": [
    "＜3種類目＞\n",
    "-  Artist layerを使用"
   ]
  },
  {
   "cell_type": "code",
   "execution_count": 68,
   "metadata": {},
   "outputs": [],
   "source": [
    "import numpy as np\n",
    "import matplotlib as mpl"
   ]
  },
  {
   "cell_type": "code",
   "execution_count": 69,
   "metadata": {},
   "outputs": [
    {
     "name": "stdout",
     "output_type": "stream",
     "text": [
      "Matplotlib version:  3.1.1\n"
     ]
    }
   ],
   "source": [
    "print ('Matplotlib version: ', mpl.__version__)"
   ]
  },
  {
   "cell_type": "code",
   "execution_count": 84,
   "metadata": {},
   "outputs": [],
   "source": [
    "THICKNESS = 0.00000008 #定数をkmに設定\n",
    "folded_thickness = []\n",
    "temp_thickness = THICKNESS\n",
    "folded_thickness.append(temp_thickness)\n",
    "for count in range(1, 44):\n",
    "    folded_thickness.append(temp_thickness * 2)\n",
    "    temp_thickness = folded_thickness[count]"
   ]
  },
  {
   "cell_type": "code",
   "execution_count": 86,
   "metadata": {},
   "outputs": [
    {
     "data": {
      "image/png": "[encoded data removed]",
      "text/plain": [
       "<Figure size 1008x576 with 1 Axes>"
      ]
     },
     "metadata": {},
     "output_type": "display_data"
    }
   ],
   "source": [
    "fig = plt.figure(figsize=(14,8),facecolor='lightgrey')\n",
    "ax = fig.add_subplot(111, xlim=(0,45)) #1行１列1件のデータ  参考 fig.subplots_adjust(top=0.8)\n",
    "\n",
    "ax.set_title('Thickness of Folded Paper')\n",
    "ax.set_xlabel('Number of Folds')\n",
    "ax.set_ylabel('Thickness[km]')\n",
    "ax.set_yticks(np.arange(min(folded_thickness), max(folded_thickness), 50000))\n",
    "\n",
    "xlabel = list(range(1,45))\n",
    "ylabel = folded_thickness\n",
    "line, = ax.plot(xlabel, ylabel, color='blue')\n",
    "\n",
    "plt.show()"
   ]
  }
 ],
 "metadata": {
  "kernelspec": {
   "display_name": "Python 3",
   "language": "python",
   "name": "python3"
  },
  "language_info": {
   "codemirror_mode": {
    "name": "ipython",
    "version": 3
   },
   "file_extension": ".py",
   "mimetype": "text/x-python",
   "name": "python",
   "nbconvert_exporter": "python",
   "pygments_lexer": "ipython3",
   "version": "3.7.4"
  }
 },
 "nbformat": 4,
 "nbformat_minor": 2
}
