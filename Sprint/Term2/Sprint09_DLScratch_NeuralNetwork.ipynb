{
 "cells": [
  {
   "cell_type": "code",
   "execution_count": 1,
   "metadata": {},
   "outputs": [],
   "source": [
    "import numpy as np\n",
    "import pandas as pd\n",
    "\n",
    "from keras.datasets import mnist\n",
    "\n",
    "from sklearn.preprocessing import OneHotEncoder\n",
    "from sklearn.model_selection import train_test_split\n",
    "\n",
    "from sklearn.metrics import accuracy_score\n",
    "from sklearn.metrics import classification_report\n",
    "\n",
    "import matplotlib.pyplot as plt\n",
    "%matplotlib inline"
   ]
  },
  {
   "cell_type": "markdown",
   "metadata": {},
   "source": [
    "- データセットのダウンロード"
   ]
  },
  {
   "cell_type": "code",
   "execution_count": 2,
   "metadata": {},
   "outputs": [],
   "source": [
    "(X_train, y_train), (X_test, y_test) = mnist.load_data()"
   ]
  },
  {
   "cell_type": "markdown",
   "metadata": {},
   "source": [
    "- データセットの確認"
   ]
  },
  {
   "cell_type": "code",
   "execution_count": 3,
   "metadata": {},
   "outputs": [
    {
     "name": "stdout",
     "output_type": "stream",
     "text": [
      "(60000, 28, 28)\n",
      "(10000, 28, 28)\n",
      "uint8\n",
      "[[  0   0   0   0   0   0   0   0   0   0   0   0   0   0   0   0   0   0\n",
      "    0   0   0   0   0   0   0   0   0   0]\n",
      " [  0   0   0   0   0   0   0   0   0   0   0   0   0   0   0   0   0   0\n",
      "    0   0   0   0   0   0   0   0   0   0]\n",
      " [  0   0   0   0   0   0   0   0   0   0   0   0   0   0   0   0   0   0\n",
      "    0   0   0   0   0   0   0   0   0   0]\n",
      " [  0   0   0   0   0   0   0   0   0   0   0   0   0   0   0   0   0   0\n",
      "    0   0   0   0   0   0   0   0   0   0]\n",
      " [  0   0   0   0   0   0   0   0   0   0   0   0   0   0   0   0   0   0\n",
      "    0   0   0   0   0   0   0   0   0   0]\n",
      " [  0   0   0   0   0   0   0   0   0   0   0   0   3  18  18  18 126 136\n",
      "  175  26 166 255 247 127   0   0   0   0]\n",
      " [  0   0   0   0   0   0   0   0  30  36  94 154 170 253 253 253 253 253\n",
      "  225 172 253 242 195  64   0   0   0   0]\n",
      " [  0   0   0   0   0   0   0  49 238 253 253 253 253 253 253 253 253 251\n",
      "   93  82  82  56  39   0   0   0   0   0]\n",
      " [  0   0   0   0   0   0   0  18 219 253 253 253 253 253 198 182 247 241\n",
      "    0   0   0   0   0   0   0   0   0   0]\n",
      " [  0   0   0   0   0   0   0   0  80 156 107 253 253 205  11   0  43 154\n",
      "    0   0   0   0   0   0   0   0   0   0]\n",
      " [  0   0   0   0   0   0   0   0   0  14   1 154 253  90   0   0   0   0\n",
      "    0   0   0   0   0   0   0   0   0   0]\n",
      " [  0   0   0   0   0   0   0   0   0   0   0 139 253 190   2   0   0   0\n",
      "    0   0   0   0   0   0   0   0   0   0]\n",
      " [  0   0   0   0   0   0   0   0   0   0   0  11 190 253  70   0   0   0\n",
      "    0   0   0   0   0   0   0   0   0   0]\n",
      " [  0   0   0   0   0   0   0   0   0   0   0   0  35 241 225 160 108   1\n",
      "    0   0   0   0   0   0   0   0   0   0]\n",
      " [  0   0   0   0   0   0   0   0   0   0   0   0   0  81 240 253 253 119\n",
      "   25   0   0   0   0   0   0   0   0   0]\n",
      " [  0   0   0   0   0   0   0   0   0   0   0   0   0   0  45 186 253 253\n",
      "  150  27   0   0   0   0   0   0   0   0]\n",
      " [  0   0   0   0   0   0   0   0   0   0   0   0   0   0   0  16  93 252\n",
      "  253 187   0   0   0   0   0   0   0   0]\n",
      " [  0   0   0   0   0   0   0   0   0   0   0   0   0   0   0   0   0 249\n",
      "  253 249  64   0   0   0   0   0   0   0]\n",
      " [  0   0   0   0   0   0   0   0   0   0   0   0   0   0  46 130 183 253\n",
      "  253 207   2   0   0   0   0   0   0   0]\n",
      " [  0   0   0   0   0   0   0   0   0   0   0   0  39 148 229 253 253 253\n",
      "  250 182   0   0   0   0   0   0   0   0]\n",
      " [  0   0   0   0   0   0   0   0   0   0  24 114 221 253 253 253 253 201\n",
      "   78   0   0   0   0   0   0   0   0   0]\n",
      " [  0   0   0   0   0   0   0   0  23  66 213 253 253 253 253 198  81   2\n",
      "    0   0   0   0   0   0   0   0   0   0]\n",
      " [  0   0   0   0   0   0  18 171 219 253 253 253 253 195  80   9   0   0\n",
      "    0   0   0   0   0   0   0   0   0   0]\n",
      " [  0   0   0   0  55 172 226 253 253 253 253 244 133  11   0   0   0   0\n",
      "    0   0   0   0   0   0   0   0   0   0]\n",
      " [  0   0   0   0 136 253 253 253 212 135 132  16   0   0   0   0   0   0\n",
      "    0   0   0   0   0   0   0   0   0   0]\n",
      " [  0   0   0   0   0   0   0   0   0   0   0   0   0   0   0   0   0   0\n",
      "    0   0   0   0   0   0   0   0   0   0]\n",
      " [  0   0   0   0   0   0   0   0   0   0   0   0   0   0   0   0   0   0\n",
      "    0   0   0   0   0   0   0   0   0   0]\n",
      " [  0   0   0   0   0   0   0   0   0   0   0   0   0   0   0   0   0   0\n",
      "    0   0   0   0   0   0   0   0   0   0]]\n"
     ]
    }
   ],
   "source": [
    "print(X_train.shape) # (60000, 28, 28)\n",
    "print(X_test.shape) # (10000, 28, 28)\n",
    "print(X_train[0].dtype) # uint8\n",
    "print(X_train[0])"
   ]
  },
  {
   "cell_type": "markdown",
   "metadata": {},
   "source": [
    "- 平滑化"
   ]
  },
  {
   "cell_type": "code",
   "execution_count": 4,
   "metadata": {},
   "outputs": [],
   "source": [
    "X_train = X_train.reshape(-1, 784)\n",
    "X_test = X_test.reshape(-1, 784)"
   ]
  },
  {
   "cell_type": "code",
   "execution_count": 5,
   "metadata": {},
   "outputs": [
    {
     "data": {
      "text/plain": [
       "((60000, 784), (10000, 784))"
      ]
     },
     "execution_count": 5,
     "metadata": {},
     "output_type": "execute_result"
    }
   ],
   "source": [
    "X_train.shape, X_test.shape"
   ]
  },
  {
   "cell_type": "markdown",
   "metadata": {},
   "source": [
    "- 画像データの可視化"
   ]
  },
  {
   "cell_type": "code",
   "execution_count": 6,
   "metadata": {},
   "outputs": [
    {
     "data": {
      "image/png": "[encoded data removed]",
      "text/plain": [
       "<Figure size 432x288 with 1 Axes>"
      ]
     },
     "metadata": {
      "needs_background": "light"
     },
     "output_type": "display_data"
    }
   ],
   "source": [
    "index = 0\n",
    "image = X_train[index].reshape(28,28)\n",
    "# X_train[index]: (784,)\n",
    "# image: (28, 28)\n",
    "plt.imshow(image, 'gray')\n",
    "plt.title('label : {}'.format(y_train[index]))\n",
    "plt.show()"
   ]
  },
  {
   "cell_type": "markdown",
   "metadata": {},
   "source": [
    "- 前処理"
   ]
  },
  {
   "cell_type": "code",
   "execution_count": 7,
   "metadata": {},
   "outputs": [
    {
     "name": "stdout",
     "output_type": "stream",
     "text": [
      "1.0\n",
      "0.0\n"
     ]
    }
   ],
   "source": [
    "X_train = X_train.astype(np.float)\n",
    "X_test = X_test.astype(np.float)\n",
    "X_train /= 255\n",
    "X_test /= 255\n",
    "\n",
    "print(X_train.max()) # 1.0\n",
    "print(X_train.min()) # 0.0"
   ]
  },
  {
   "cell_type": "code",
   "execution_count": 8,
   "metadata": {},
   "outputs": [
    {
     "name": "stdout",
     "output_type": "stream",
     "text": [
      "(60000,)\n",
      "(60000, 10)\n",
      "float64\n"
     ]
    }
   ],
   "source": [
    "enc = OneHotEncoder(handle_unknown='ignore', sparse=False)\n",
    "y_train_one_hot = enc.fit_transform(y_train[:, np.newaxis])\n",
    "y_test_one_hot = enc.transform(y_test[:, np.newaxis])\n",
    "\n",
    "print(y_train.shape) # (60000,)\n",
    "print(y_train_one_hot.shape) # (60000, 10)\n",
    "print(y_train_one_hot.dtype) # float64"
   ]
  },
  {
   "cell_type": "code",
   "execution_count": 9,
   "metadata": {},
   "outputs": [
    {
     "name": "stdout",
     "output_type": "stream",
     "text": [
      "(48000, 784) (48000, 10)\n",
      "(12000, 784) (12000, 10)\n"
     ]
    }
   ],
   "source": [
    "X_train, X_val, y_train, y_val = train_test_split(X_train, y_train_one_hot, test_size=0.2)\n",
    "\n",
    "print(X_train.shape, y_train.shape) # (48000, 784)\n",
    "print(X_val.shape, y_val.shape) # (12000, 784)"
   ]
  },
  {
   "cell_type": "code",
   "execution_count": 10,
   "metadata": {},
   "outputs": [],
   "source": [
    "class GetMiniBatch:\n",
    "    \"\"\"\n",
    "    ミニバッチを取得するイテレータ\n",
    "\n",
    "    Parameters\n",
    "    ----------\n",
    "    X : 次の形のndarray, shape (n_samples, n_features)\n",
    "      訓練データ\n",
    "    y : 次の形のndarray, shape (n_samples, 1)\n",
    "      正解値\n",
    "    batch_size : int\n",
    "      バッチサイズ\n",
    "    seed : int\n",
    "      NumPyの乱数のシード\n",
    "    \"\"\"\n",
    "    def __init__(self, X, y, batch_size = 20, seed=0):\n",
    "        self.batch_size = batch_size\n",
    "        np.random.seed(seed)\n",
    "        shuffle_index = np.random.permutation(np.arange(X.shape[0]))\n",
    "        self._X = X[shuffle_index]\n",
    "        self._y = y[shuffle_index]\n",
    "        self._stop = np.ceil(X.shape[0]/self.batch_size).astype(np.int)\n",
    "        \n",
    "    def __len__(self):\n",
    "        return self._stop\n",
    "    \n",
    "    def __getitem__(self,item):\n",
    "        p0 = item*self.batch_size\n",
    "        p1 = item*self.batch_size + self.batch_size\n",
    "        return self._X[p0:p1], self._y[p0:p1]     \n",
    "    \n",
    "    def __iter__(self):\n",
    "        self._counter = 0\n",
    "        return self\n",
    "    \n",
    "    def __next__(self):\n",
    "        if self._counter >= self._stop:\n",
    "            raise StopIteration()\n",
    "        p0 = self._counter*self.batch_size\n",
    "        p1 = self._counter*self.batch_size + self.batch_size\n",
    "        self._counter += 1\n",
    "        return self._X[p0:p1], self._y[p0:p1]"
   ]
  },
  {
   "cell_type": "code",
   "execution_count": 11,
   "metadata": {},
   "outputs": [],
   "source": [
    "class ScratchSimpleNeuralNetrowkClassifier():\n",
    "    \"\"\"\n",
    "    シンプルな三層ニューラルネットワーク分類器\n",
    "\n",
    "    Parameters\n",
    "    ----------\n",
    "    activation : str\n",
    "        活性化関数：sigmoid(シグモイド関数) or tanh(ハイパボリックタンジェント関数)\n",
    "    n_nodes1 : int\n",
    "        1層目のノード数\n",
    "    n_nodes2 : int\n",
    "        2層目のノード数\n",
    "    n_output : int\n",
    "        出力のクラス数\n",
    "\n",
    "    Attributes\n",
    "    ----------\n",
    "    self.W1 : 次の形のndarray, shape (self.n_features, self.n_nodes1)\n",
    "        1層目の重み\n",
    "    self.B1 : 次の形のndarray, shape (self.n_nodes1)\n",
    "        1層目のバイアス\n",
    "    self.W2 : 次の形のndarray, shape (self.n_nodes1, self.n_nodes2)\n",
    "        2層目の重み\n",
    "    self.B2 : 次の形のndarray, shape (self.n_nodes2)\n",
    "        2層目のバイアス\n",
    "    self.W3 : 次の形のndarray, shape (self.n_nodes2, self.n_output)\n",
    "        3層目の重み\n",
    "    self.B3 : 次の形のndarray, shape (self.n_output)\n",
    "        3層目のバイアス\n",
    "    self.A1 : 次の形のndarray, shape (self.batch_size, self.n_nodes1)\n",
    "        1層目の線形結合の値\n",
    "    self.Z1 : 次の形のndarray, shape (self.batch_size, self.n_nodes1)\n",
    "        1層目の活性化関数の線形変換による値\n",
    "    self.A2 : 次の形のndarray, shape (self.batch_size, self.n_nodes2)\n",
    "        2層目の線形結合の値\n",
    "    self.Z2 : 次の形のndarray, shape (self.batch_size, self.n_nodes2)\n",
    "        2層目の活性化関数の線形変換による値\n",
    "    self.epochs : int\n",
    "        エポック数(初期値：10)\n",
    "    self.batch_size : int\n",
    "        バッチサイズ(初期値：20)\n",
    "    self.n_features : int\n",
    "        特徴量の数\n",
    "    self.val_is_true : boolean\n",
    "        検証用データの有無    \n",
    "    self.loss : 空のndarray\n",
    "        訓練データに対する損失の記録\n",
    "    self.loss_val : 空のndarray\n",
    "        検証データに対する損失の記録\n",
    "    \"\"\"\n",
    "    def __init__(self, activation, n_nodes1, n_nodes2, n_output):\n",
    "        self.activation = activation      # 活性化関数     \n",
    "        self.n_nodes1 = n_nodes1      # 1層目のノード数\n",
    "        self.n_nodes2 = n_nodes2      # 2層目のノード数\n",
    "        self.n_output = n_output        # 出力のクラス数（10 : 3層目のノード数）        \n",
    "        \n",
    "    # 問題 1\n",
    "    def __initialize_weights(self):\n",
    "        \"\"\"\n",
    "        重みを初期化する関数\n",
    "        \"\"\"\n",
    "        sigma = 0.01 # ガウス分布の標準偏差\n",
    "        \n",
    "        self.W1 = sigma * np.random.randn(self.n_features, self.n_nodes1)\n",
    "        self.B1 = sigma * np.random.randn(self.n_nodes1)\n",
    "        \n",
    "        self.W2 = sigma * np.random.randn(self.n_nodes1, self.n_nodes2)\n",
    "        self.B2 = sigma * np.random.randn(self.n_nodes2)\n",
    "        \n",
    "        self.W3 = sigma * np.random.randn(self.n_nodes2, self.n_output)\n",
    "        self.B3 = sigma * np.random.randn(self.n_output)\n",
    "    \n",
    "    def __forward_propagation(self, X):\n",
    "        \"\"\"\n",
    "        フォワードプロバゲーション\n",
    "        \"\"\"\n",
    "        # 1層目\n",
    "        self.A1 = np.dot(X, self.W1) + self.B1        \n",
    "        self.Z1 = self.__activation_function(self.A1)\n",
    "        \n",
    "        # 2層目\n",
    "        self.A2 = np.dot(self.Z1, self.W2) + self.B2        \n",
    "        self.Z2 = self.__activation_function(self.A2)           \n",
    "        \n",
    "        # 3層目\n",
    "        A3 = np.dot(self.Z2, self.W3) + self.B3\n",
    "\n",
    "        return self.__softmax_function(A3)\n",
    "    \n",
    "    def __activation_function(self, A):\n",
    "        \"\"\"\n",
    "        活性化関数 :\n",
    "        シグモイド関数    \n",
    "        ハイパボリックタンジェント関数\n",
    "        \"\"\"\n",
    "        if self.activation == 'sigmoid':           \n",
    "            return 1 / (1 + np.exp(-A))\n",
    "        elif self.activation == 'tanh':            \n",
    "            return np.tanh(A)   \n",
    "        else:\n",
    "            raise NameError(\"name \\\"\" + str(self.activation) + \"\\\" is not defined. set either \\\"sigmoid\\\" or \\\"tanh\\\" .\") \n",
    "            \n",
    "    def __sigmoid_function(self, X):\n",
    "        \"\"\"\n",
    "        シグモイド関数にて仮定関数を計算\n",
    "        課題提出用にコードを残している\n",
    "        \"\"\"\n",
    "        return 1 / (1 + np.exp(-X))\n",
    "    \n",
    "    def __hyperbolic_tangent_function(self, X):\n",
    "        \"\"\"\n",
    "        ハイパボリックタンジェント関数にて仮定関数を計算\n",
    "        課題提出用にコードを残している\n",
    "        (np.exp(X) - np.exp(-X)) / (np.exp(X) + np.exp(-X))\n",
    "        \"\"\"        \n",
    "        return np.tanh(X)\n",
    "\n",
    "    def __softmax_function(self, A):\n",
    "        \"\"\"\n",
    "        ソフトマックス関数にて各クラスに属する確率を計算\n",
    "        合計値: 1.0\n",
    "        \"\"\"        \n",
    "        return np.exp(A) / np.sum(np.exp(A), axis=1, keepdims=True)\n",
    "    \n",
    "    # 問題 3\n",
    "    def __cross_entropy_error(self, y, z):\n",
    "        \"\"\"\n",
    "        交差エントロピー誤差で目的関数を計算する関数\n",
    "        \"\"\"\n",
    "        batch_size = y.shape[0]\n",
    "\n",
    "        return -np.sum(y * np.log(z)) / batch_size\n",
    "\n",
    "    def __backpropagation(self):\n",
    "        \"\"\"\n",
    "        バックプロパゲーション\n",
    "        \"\"\"\n",
    "        # 3層目\n",
    "        partial_A3 = self.Z3 - self.y_\n",
    "\n",
    "        partial_B3 = np.sum(partial_A3, axis=0)     \n",
    "        partial_W3 = np.dot(self.Z2.T,  partial_A3)\n",
    "        partial_Z2 = np.dot(partial_A3, self.W3.T)         \n",
    "\n",
    "        self.W3, self.B3 = self.__stochastic_gradient_descent(self.W3, partial_W3, self.B3, partial_B3) # W3とB3の重みの更新値        \n",
    "\n",
    "        # 2層目\n",
    "        partial_A2 = self.__derivative_function(self.A2, partial_Z2)\n",
    "\n",
    "        partial_B2 = np.sum(partial_A2, axis=0)\n",
    "        partial_W2 = np.dot(self.Z1.T,  partial_A2)    \n",
    "        partial_Z1 = np.dot(partial_A2, self.W2.T)         \n",
    "\n",
    "        self.W2, self.B2 = self.__stochastic_gradient_descent(self.W2, partial_W2, self.B2, partial_B2) # W2とB2の重みの更新値\n",
    "\n",
    "        # 1層目\n",
    "        partial_A1 = self.__derivative_function(self.A1, partial_Z1)\n",
    "\n",
    "        partial_B1 = np.sum(partial_A1, axis=0)\n",
    "        partial_W1 = np.dot(self.X_.T,  partial_A1)\n",
    "        \n",
    "        self.W1, self.B1 = self.__stochastic_gradient_descent(self.W1, partial_W1, self.B1, partial_B1) # W1とB1の重みの更新値\n",
    " \n",
    "    def __derivative_function(self, A, Z):\n",
    "        \"\"\"\n",
    "        合成関数の偏微分：\n",
    "        シグモイド関数の導関数\n",
    "        ハイパボリックタンジェント関数の導関数\n",
    "        \"\"\"        \n",
    "        if self.activation == 'sigmoid':\n",
    "            return Z * np.multiply((1.0 - self.__sigmoid_function(A)), self.__sigmoid_function(A))\n",
    "        elif self.activation == 'tanh':                \n",
    "            return Z * (1.0 - (np.tanh(A) ** 2))\n",
    "            \n",
    "    def __stochastic_gradient_descent(self, W, partial_W, B, partial_B):\n",
    "        \"\"\"\n",
    "        確率的勾配降下法により重みを更新する関数\n",
    "        \"\"\"        \n",
    "        lr = 0.001 # 学習率\n",
    "        W_prime = W - lr * partial_W\n",
    "        B_prime = B - lr * partial_B\n",
    "        \n",
    "        return W_prime, B_prime\n",
    "  \n",
    "    def fit(self, X, y, X_val=None, y_val=None, epochs=10, batch_size=20):\n",
    "        \"\"\"\n",
    "        ニューラルネットワーク分類器を学習する。\n",
    "\n",
    "        Parameters\n",
    "        ----------\n",
    "        X : 次の形のndarray, shape (n_samples, n_features)\n",
    "            訓練データの特徴量\n",
    "        y : 次の形のndarray, shape (n_samples, )\n",
    "            訓練データの正解値\n",
    "        X_val : 次の形のndarray, shape (n_samples, n_features)\n",
    "            検証データの特徴量\n",
    "        y_val : 次の形のndarray, shape (n_samples, )\n",
    "            検証データの正解値\n",
    "        epochs : int\n",
    "            エポック数(初期値：10)\n",
    "        batch_size : int\n",
    "            バッチサイズ(初期値：20)        \n",
    "        \"\"\"\n",
    "        self.epochs = epochs                            # エポック数     \n",
    "        self.batch_size = batch_size               # バッチサイズ\n",
    "        self.n_features = X.shape[1]               # 特徴量の数(784) \n",
    "        self.val_is_true = False                        # 検証用データの有無(初期値：False)\n",
    "        self.loss = np.zeros(self.epochs)        # 学習曲線・目的関数の出力用(訓練データ)\n",
    "        self.loss_val = np.zeros(self.epochs) # 学習曲線・目的関数の出力用(検証データ)\n",
    "        \n",
    "        self.__initialize_weights() # 重みの初期化\n",
    "        \n",
    "        for epoch in range(self.epochs):\n",
    "            get_mini_batch = GetMiniBatch(X, y, batch_size=self.batch_size)\n",
    "            for mini_X_train,  mini_y_train in get_mini_batch:\n",
    "                self.X_ = mini_X_train\n",
    "                self.y_ = mini_y_train\n",
    "\n",
    "                # フォワードプロバゲーション\n",
    "                self.Z3 = self.__forward_propagation(self.X_)\n",
    "\n",
    "                # 交差エントロピー誤差\n",
    "                self.loss[epoch] = self.__cross_entropy_error(self.y_, self.Z3)\n",
    "\n",
    "                # バックプロパゲーション\n",
    "                self.__backpropagation()\n",
    "\n",
    "            if not(X_val is None) and not(y_val is None):\n",
    "                self.val_is_true = True\n",
    "                \n",
    "                # フォワードプロバゲーション\n",
    "                self.y_val_pred = self.__forward_propagation(X_val)\n",
    "\n",
    "                # 交差エントロピー誤差\n",
    "                self.loss_val[epoch] = self.__cross_entropy_error(y_val, self.y_val_pred)      \n",
    "\n",
    "    def predict(self, X):\n",
    "        \"\"\"\n",
    "        ニューラルネットワーク分類器を使い推定する。\n",
    "\n",
    "        Parameters\n",
    "        ----------\n",
    "        X : 次の形のndarray, shape (n_samples, n_features)\n",
    "            サンプル\n",
    "\n",
    "        Returns\n",
    "        -------\n",
    "            次の形のndarray, shape (n_samples, 1)\n",
    "            推定結果\n",
    "        \"\"\"\n",
    "        # フォワードプロバゲーション\n",
    "        y_pred = self.__forward_propagation(X)    \n",
    "\n",
    "        return np.argmax(y_pred, axis=1)\n",
    "    \n",
    "    def plot_learning_curve(self):\n",
    "        \"\"\"\n",
    "        学習曲線をプロットする。    \n",
    "        \"\"\"\n",
    "        plt.plot(range(1, self.epochs + 1), self.loss, color=\"r\", marker=\"o\", label=\"train loss\")\n",
    "        if self.val_is_true:\n",
    "            plt.plot(range(1, self.epochs + 1), self.loss_val, color=\"g\", marker=\"o\", label=\"val loss\")\n",
    "            \n",
    "        plt.title(\"Learning Curve\")\n",
    "        plt.xlabel(\"Epoch\")\n",
    "        plt.ylabel(\"Loss\")\n",
    "        plt.grid()\n",
    "        plt.legend(loc=\"best\")\n",
    "        plt.show()"
   ]
  },
  {
   "cell_type": "markdown",
   "metadata": {},
   "source": [
    "### 【問題1】重みの初期値を決めるコードの作成\n",
    "ニューラルネットワークの各層の重みの初期値を決めるコードを作成してください。\n",
    "\n",
    "\n",
    "重みの初期値は様々な方法が提案されていますが、今回はガウス分布による単純な初期化を行います。バイアスに関しても同様です。\n",
    "\n",
    "\n",
    "以下のコードを参考にしてください。標準偏差の値sigmaはハイパーパラメータです。発展的な重みの初期化方法については次のSprintで扱います。"
   ]
  },
  {
   "cell_type": "code",
   "execution_count": null,
   "metadata": {},
   "outputs": [],
   "source": []
  },
  {
   "cell_type": "markdown",
   "metadata": {},
   "source": [
    "### 【問題2】フォワードプロパゲーションの実装\n",
    "三層のニューラルネットワークの フォワードプロパゲーション を作成してください。以下の説明ではノード数は1層目は400、2層目は200としますが、変更しても構いません。\n",
    "\n",
    "\n",
    "各層の数式を以下に示します。今回はそれぞれの記号が表す配列が、実装上どのようなndarrayのshapeになるかを併記してあります。"
   ]
  },
  {
   "cell_type": "markdown",
   "metadata": {},
   "source": [
    "「1層目」\n",
    "\n",
    "$$\n",
    "A_1=X ⋅ W_1 + B_1\n",
    "$$\n",
    "\n",
    "\n",
    "$X$ : 特徴量ベクトル (batch_size, n_features) ⇨ __(20, 784)__\n",
    "\n",
    "\n",
    "$W_1$ : 1層目の重み (n_features, n_nodes1) ⇨ __(784, 400)__\n",
    "\n",
    "\n",
    "$B_1$ : 1層目のバイアス (n_nodes1,) ⇨ __(400,)__\n",
    "\n",
    "\n",
    "$A_1$ : 出力 (batch_size, n_nodes1)  ⇨ __(20, 400)__"
   ]
  },
  {
   "cell_type": "markdown",
   "metadata": {},
   "source": [
    "「1層目の活性化関数」\n",
    "\n",
    "$$\n",
    "Z_1=f(A_1)\n",
    "$$\n",
    "\n",
    "\n",
    "$f()$ : 活性化関数\n",
    "\n",
    "\n",
    "$Z_1$ 出力 (batch_size, n_nodes1)  ⇨ __(20, 400)__"
   ]
  },
  {
   "cell_type": "markdown",
   "metadata": {},
   "source": [
    "「2層目」\n",
    "\n",
    "$$\n",
    "A_2=Z_1 ⋅ W_2 + B_2\n",
    "$$\n",
    "\n",
    "\n",
    "$Z_1$ 出力 (batch_size, n_nodes1)  ⇨ __(20, 400)__ \n",
    "\n",
    "\n",
    "$W_2$ : 2層目の重み (n_nodes1, n_nodes2) ⇨ __(400, 200)__\n",
    "\n",
    "\n",
    "$B_2$ : 2層目のバイアス (n_nodes2,) ⇨ __(200,)__\n",
    "\n",
    "\n",
    "$A_2$ : 出力 (batch_size, n_nodes2) ⇨ __(20, 200)__"
   ]
  },
  {
   "cell_type": "markdown",
   "metadata": {},
   "source": [
    "「2層目の活性化関数」\n",
    "\n",
    "$$\n",
    "Z_2=f(A_2)\n",
    "$$\n",
    "\n",
    "\n",
    "$f()$ : 活性化関数\n",
    "\n",
    "\n",
    "$Z_2$ 出力 (batch_size, n_nodes2) ⇨ __(20, 200)__"
   ]
  },
  {
   "cell_type": "markdown",
   "metadata": {},
   "source": [
    "「3層目（出力層）」\n",
    "\n",
    "$$\n",
    "A_3=Z_2 ⋅ W_3 + B_3\n",
    "$$\n",
    "\n",
    "\n",
    "$Z_2$ 出力 (batch_size, n_nodes2) ⇨ __(20, 200)__\n",
    "\n",
    "\n",
    "$W_3$ : 3層目の重み (n_nodes2, n_output) ⇨ __(200, 10)__\n",
    "\n",
    "\n",
    "$B_3$ : 3層目のバイアス (n_output,) ⇨ __(10,)__\n",
    "\n",
    "\n",
    "$A_3$ : 出力 (batch_size, n_output) ⇨ __(20, 10)__"
   ]
  },
  {
   "cell_type": "markdown",
   "metadata": {},
   "source": [
    "「3層目の活性化関数」\n",
    "\n",
    "$$\n",
    "Z_3=softmax(A_3)\n",
    "$$\n",
    "\n",
    "\n",
    "$softmax()$ : ソフトマックス関数\n",
    "\n",
    "\n",
    "$Z_3$ 出力 (batch_size, n_output) ⇨ __(20, 10)__\n",
    "\n",
    "\n",
    "$Z_3$ は各ラベル（0〜9）に対する確率の配列である。"
   ]
  },
  {
   "cell_type": "code",
   "execution_count": null,
   "metadata": {},
   "outputs": [],
   "source": []
  },
  {
   "cell_type": "markdown",
   "metadata": {},
   "source": [
    "### 【問題3】交差エントロピー誤差の実装\n",
    "目的関数（損失関数）を作成します。\n",
    "\n",
    "\n",
    "多クラス分類の目的関数である交差エントロピー誤差 $L$ は次の数式です。\n",
    "\n",
    "\n",
    "$$\n",
    "L = - \\frac{1}{n_b} \\displaystyle \\sum_{j}^{n_b} \\displaystyle \\sum_{k}^{n_c}\n",
    "y_{jk}log(z_{3_jk})\n",
    "$$\n",
    "\n",
    "\n",
    "$y_{ij}$ : $j$ 番目のサンプルの $k$ 番目のクラスの正解ラベル（one-hot表現で0か1のスカラー）\n",
    "\n",
    "\n",
    "$z_{3_ij}$ : $j$ 番目のサンプルの $k$ 番目のクラスの確率（スカラー）\n",
    "\n",
    "\n",
    "$n_{b}$ : バッチサイズ、batch_size\n",
    "\n",
    "\n",
    "$n_{c}$ : クラスの数、n_output（今回のMNISTでは10）\n",
    "\n",
    "\n",
    "サンプル1つあたりの誤差が求まります。"
   ]
  },
  {
   "cell_type": "code",
   "execution_count": null,
   "metadata": {},
   "outputs": [],
   "source": []
  },
  {
   "cell_type": "markdown",
   "metadata": {},
   "source": [
    "### 【問題4】バックプロパゲーションの実装\n",
    "三層のニューラルネットワークのバックプロパゲーションを作成してください。確率的勾配降下法を行う部分です。\n",
    "\n",
    "\n",
    "数式を以下に示します。\n",
    "\n",
    "\n",
    "まず、i層目の重みとバイアスの更新式です。 $W_i$ と $B_i$ に対し、更新後の $W_i^{\\prime}$ と $B_i^{\\prime}$ は次の数式で求められます。"
   ]
  },
  {
   "cell_type": "markdown",
   "metadata": {},
   "source": [
    "$$\n",
    "W'_i= W_i - \\alpha \\frac{\\partial L}{\\partial W_i}\n",
    "$$\n",
    "\n",
    "$$\n",
    "B'_i= B_i - \\alpha \\frac{\\partial L}{\\partial B_i}\n",
    "$$\n",
    "\n",
    "\n",
    "$\\alpha$ : 学習率（層ごとに変えることも可能だが、基本的には全て同じとする）\n",
    "\n",
    "\n",
    "$\\frac{\\partial L}{\\partial W_i}$ : $W_i$ に関する損失 $L$ の勾配\n",
    "\n",
    "\n",
    "$\\frac{\\partial L}{\\partial B_i}$ : $B_i$ に関する損失 $L$ の勾配\n",
    "\n",
    "\n",
    "＊この勾配はミニバッチのサンプル数分の合計または平均を考えます。ここでは合計を計算します。\n",
    "\n",
    "\n",
    "この更新方法はSprint3線形回帰やsprint4ロジスティック回帰における最急降下法と同様です。より効果的な更新方法が知られており、それは次のSprintで扱います。\n",
    "\n",
    "\n",
    "勾配 $\\frac{\\partial L}{\\partial W_i}$ や $\\frac{\\partial L}{\\partial B_i}$ を求めるために、バックプロパゲーションを行います。以下の数式です。ハイパボリックタンジェント関数を使用した例を載せました。シグモイド関数の場合の数式はその後ろにあります。"
   ]
  },
  {
   "cell_type": "markdown",
   "metadata": {},
   "source": [
    "「3層目」\n",
    "\n",
    "$$\n",
    "\\frac{\\partial L}{\\partial A_3} = Z_3 - Y\n",
    "$$\n",
    "\n",
    "$$\n",
    "\\frac{\\partial L}{\\partial B_3} = \\displaystyle \\sum_{j}^{n_b} \\frac{\\partial L}{\\partial A_{3_j}} \n",
    "$$\n",
    "\n",
    "$$\n",
    "\\frac{\\partial L}{\\partial W_3} = Z_2^T  \\frac{\\partial L}{\\partial A_3} \n",
    "$$\n",
    "\n",
    "$$\n",
    "\\frac{\\partial L}{\\partial Z_2} = \\frac{\\partial L}{\\partial A_3} ⋅ W_3^T\n",
    "$$\n",
    "\n",
    "\n",
    "$\\frac{\\partial L}{\\partial A_3}$ : $A_3$ に関する損失 $L$ の勾配 (batch_size, n_output)　 ⇨ __(20, 10)__\n",
    "\n",
    "\n",
    "$\\frac{\\partial L}{\\partial A_{3_j}}$ : j番目のサンプルの$A_3$ に関する損失 $L$ の勾配 (n_nodes2,)\n",
    "\n",
    "\n",
    "$\\frac{\\partial L}{\\partial B_3}$ : $B_3$ に関する損失 $L$ の勾配 (n_output,)　 ⇨ __(10,)__\n",
    "\n",
    "\n",
    "$\\frac{\\partial L}{\\partial W_3}$ : $W_3$ に関する損失 $L$ の勾配 (n_nodes2, n_output)　 ⇨ __(200, 10)__\n",
    "\n",
    "\n",
    "$\\frac{\\partial L}{\\partial Z_2}$ : $Z_2$ に関する損失 $L$ の勾配 (batch_size, n_nodes2)　 ⇨ __(20, 200)__\n",
    "\n",
    "\n",
    "$Z_{3}$ : ソフトマックス関数の出力 (batch_size, n_output)\n",
    "\n",
    "\n",
    "$Y$ : 正解ラベル (batch_size, n_output)\n",
    "\n",
    "\n",
    "$Z_{2}$ : 2層目の活性化関数の出力 (batch_size, n_nodes2)\n",
    "\n",
    "\n",
    "$W_3$ : 3層目の重み (n_nodes2, n_output)"
   ]
  },
  {
   "cell_type": "markdown",
   "metadata": {},
   "source": [
    "「2層目」\n",
    "\n",
    "$$\n",
    "\\frac{\\partial L}{\\partial A_2} = \\frac{\\partial L}{\\partial Z_2} ⊙ \\{1 - tanh^2(A_2)\\}\n",
    "$$\n",
    "\n",
    "$$\n",
    "\\frac{\\partial L}{\\partial B_2} = \\displaystyle \\sum_{j}^{n_b} \\frac{\\partial L}{\\partial A_{2_j}} \n",
    "$$\n",
    "\n",
    "$$\n",
    "\\frac{\\partial L}{\\partial W_2} = Z_1^T  \\frac{\\partial L}{\\partial A_2} \n",
    "$$\n",
    "\n",
    "$$\n",
    "\\frac{\\partial L}{\\partial Z_1} = \\frac{\\partial L}{\\partial A_2} ⋅ W_2^T\n",
    "$$\n",
    "\n",
    "\n",
    "$\\frac{\\partial L}{\\partial A_2}$ : $A_2$ に関する損失 $L$ の勾配 (batch_size, n_nodes2)　 ⇨ __(20, 200)__\n",
    "\n",
    "\n",
    "$\\frac{\\partial L}{\\partial A_{2_j}}$ : j番目のサンプルの$A_2$ に関する損失 $L$ の勾配 (n_nodes2,)\n",
    "\n",
    "\n",
    "$\\frac{\\partial L}{\\partial B_2}$ : $B_2$ に関する損失 $L$ の勾配 (n_nodes2,)　 ⇨ __(200,)__\n",
    "\n",
    "\n",
    "$\\frac{\\partial L}{\\partial W_2}$ : $W_2$ に関する損失 $L$ の勾配 (n_nodes1, n_nodes2)　 ⇨ __(400, 200)__\n",
    "\n",
    "\n",
    "$\\frac{\\partial L}{\\partial Z_2}$ : $Z_2$ に関する損失 $L$ の勾配 (batch_size, n_nodes2)　 ⇨ __(20, 200)__\n",
    "\n",
    "\n",
    "$A_2$ : 2層目の出力 (batch_size, n_nodes2)\n",
    "\n",
    "\n",
    "$Z_{1}$ : 1層目の活性化関数の出力 (batch_size, n_nodes1)\n",
    "\n",
    "\n",
    "$W_2$ : 2層目の重み (n_nodes1, n_nodes2)"
   ]
  },
  {
   "cell_type": "markdown",
   "metadata": {},
   "source": [
    "「1層目」\n",
    "\n",
    "$$\n",
    "\\frac{\\partial L}{\\partial A_1} = \\frac{\\partial L}{\\partial Z_1} ⊙ \\{1 - tanh^2(A_1)\\}\n",
    "$$\n",
    "\n",
    "$$\n",
    "\\frac{\\partial L}{\\partial B_1} = \\displaystyle \\sum_{j}^{n_b} \\frac{\\partial L}{\\partial A_{1_j}} \n",
    "$$\n",
    "\n",
    "$$\n",
    "\\frac{\\partial L}{\\partial W_1} = X^T \\frac{\\partial L}{\\partial A_1} \n",
    "$$\n",
    "\n",
    "$\\frac{\\partial L}{\\partial A_1}$ : $A_1$ に関する損失 $L$ の勾配 (batch_size, n_nodes1)　 ⇨ __(20, 400)__\n",
    "\n",
    "\n",
    "$\\frac{\\partial L}{\\partial A_{1_j}}$ : j番目のサンプルの$A_1$ に関する損失 $L$ の勾配 (n_nodes1,)\n",
    "\n",
    "\n",
    "$\\frac{\\partial L}{\\partial B_1}$ : $B_1$ に関する損失 $L$ の勾配 (n_nodes1,)　 ⇨ __(400,)__\n",
    "\n",
    "\n",
    "$\\frac{\\partial L}{\\partial W_1}$ : $W_1$ に関する損失 $L$ の勾配 (n_features, n_nodes1)　 ⇨ __(784, 400)__\n",
    "\n",
    "\n",
    "$\\frac{\\partial L}{\\partial Z_1}$ : $Z_1$ に関する損失 $L$ の勾配 (batch_size, n_nodes1)　 ⇨ __(20, 400)__\n",
    "\n",
    "\n",
    "$A_1$ : 1層目の出力 (batch_size, n_nodes1)\n",
    "\n",
    "\n",
    "$X$ : 特徴量ベクトル (batch_size, n_features)\n",
    "\n",
    "\n",
    "$W_1$ : 1層目の重み (n_features, n_nodes1)"
   ]
  },
  {
   "cell_type": "markdown",
   "metadata": {},
   "source": [
    "《補足》\n",
    "\n",
    "\n",
    "活性化関数にシグモイド関数を使用した場合は、次のようになります。\n",
    "\n",
    "$$\n",
    "\\frac{\\partial L}{\\partial A_2} = \\frac{\\partial L}{\\partial Z_2} ⊙ \\{1 - sigmoid(A_2)\\} sigmoid(A_2)\n",
    "$$\n",
    "\n",
    "$$\n",
    "\\frac{\\partial L}{\\partial A_1} = \\frac{\\partial L}{\\partial Z_1} ⊙ \\{1 - sigmoid(A_1)\\} sigmoid(A_1)\n",
    "$$"
   ]
  },
  {
   "cell_type": "code",
   "execution_count": 12,
   "metadata": {},
   "outputs": [],
   "source": [
    "model = ScratchSimpleNeuralNetrowkClassifier(activation='tanh', n_nodes1=400, n_nodes2=200, n_output=10)\n",
    "model.fit(X_train, y_train, X_val, y_val, epochs = 10, batch_size = 20)\n",
    "y_pred = model.predict(X_test)"
   ]
  },
  {
   "cell_type": "code",
   "execution_count": null,
   "metadata": {},
   "outputs": [],
   "source": []
  },
  {
   "cell_type": "markdown",
   "metadata": {},
   "source": [
    "### 【問題5】推定\n",
    "推定を行うメソッドを作成してください。\n",
    "\n",
    "\n",
    "フォワードプロパゲーションによって出力された10個の確率の中で、最も高いものはどれかを判定します。\n",
    "\n",
    "\n",
    "[numpy.argmax — NumPy v1.17 Manual](https://numpy.org/doc/stable/reference/generated/numpy.argmax.html)"
   ]
  },
  {
   "cell_type": "code",
   "execution_count": 13,
   "metadata": {},
   "outputs": [
    {
     "data": {
      "text/plain": [
       "array([ 990, 1151, 1052, 1026, 1004,  873,  961, 1041,  954,  948])"
      ]
     },
     "execution_count": 13,
     "metadata": {},
     "output_type": "execute_result"
    }
   ],
   "source": [
    "np.bincount(y_pred)"
   ]
  },
  {
   "cell_type": "code",
   "execution_count": 14,
   "metadata": {},
   "outputs": [
    {
     "data": {
      "text/plain": [
       "array([ 980, 1135, 1032, 1010,  982,  892,  958, 1028,  974, 1009])"
      ]
     },
     "execution_count": 14,
     "metadata": {},
     "output_type": "execute_result"
    }
   ],
   "source": [
    "np.sum(y_test_one_hot, axis=0).astype('int')"
   ]
  },
  {
   "cell_type": "code",
   "execution_count": null,
   "metadata": {},
   "outputs": [],
   "source": []
  },
  {
   "cell_type": "markdown",
   "metadata": {},
   "source": [
    "### 【問題6】学習と推定\n",
    "MNISTのデータを学習・推定し、Accuracyを計算してください。"
   ]
  },
  {
   "cell_type": "code",
   "execution_count": 15,
   "metadata": {},
   "outputs": [
    {
     "name": "stdout",
     "output_type": "stream",
     "text": [
      "accuracy : 0.9592\n",
      "\n",
      "\n",
      "              precision    recall  f1-score   support\n",
      "\n",
      "           0       0.97      0.98      0.98       980\n",
      "           1       0.97      0.99      0.98      1135\n",
      "           2       0.95      0.97      0.96      1032\n",
      "           3       0.95      0.96      0.95      1010\n",
      "           4       0.95      0.97      0.96       982\n",
      "           5       0.96      0.94      0.95       892\n",
      "           6       0.96      0.96      0.96       958\n",
      "           7       0.95      0.96      0.96      1028\n",
      "           8       0.96      0.94      0.95       974\n",
      "           9       0.97      0.91      0.94      1009\n",
      "\n",
      "    accuracy                           0.96     10000\n",
      "   macro avg       0.96      0.96      0.96     10000\n",
      "weighted avg       0.96      0.96      0.96     10000\n",
      "\n"
     ]
    }
   ],
   "source": [
    "print(\"accuracy : {}\".format(accuracy_score(y_test, y_pred)))\n",
    "print(\"\\n\")\n",
    "print(classification_report(y_test, y_pred))"
   ]
  },
  {
   "cell_type": "code",
   "execution_count": null,
   "metadata": {},
   "outputs": [],
   "source": []
  },
  {
   "cell_type": "markdown",
   "metadata": {},
   "source": [
    "### 【問題7】学習曲線のプロット\n",
    "学習曲線をプロットしてください。\n",
    "\n",
    "\n",
    "ニューラルネットワークは過学習が発生しやすいため、学習曲線の確認が重要です。訓練データと検証データに対するエポックごとの損失（交差エントロピー誤差）を記録できるようにする必要があります。"
   ]
  },
  {
   "cell_type": "code",
   "execution_count": 16,
   "metadata": {},
   "outputs": [
    {
     "data": {
      "image/png": "[encoded data removed]",
      "text/plain": [
       "<Figure size 432x288 with 1 Axes>"
      ]
     },
     "metadata": {
      "needs_background": "light"
     },
     "output_type": "display_data"
    }
   ],
   "source": [
    "model.plot_learning_curve()"
   ]
  },
  {
   "cell_type": "code",
   "execution_count": null,
   "metadata": {},
   "outputs": [],
   "source": []
  },
  {
   "cell_type": "markdown",
   "metadata": {},
   "source": [
    "### 【問題8】（アドバンス課題）誤分類の確認\n",
    "\n",
    "\n",
    "誤分類した画像はどのようなものだったかを確認してください。推定値を用意し、以下のコードを実行してください。"
   ]
  },
  {
   "cell_type": "code",
   "execution_count": 20,
   "metadata": {},
   "outputs": [
    {
     "data": {
      "image/png": "[encoded data removed]",
      "text/plain": [
       "<Figure size 432x432 with 36 Axes>"
      ]
     },
     "metadata": {},
     "output_type": "display_data"
    }
   ],
   "source": [
    "\"\"\"\n",
    "語分類結果を並べて表示する。画像の上の表示は「推定結果/正解」である。\n",
    "\n",
    "Parameters:\n",
    "----------\n",
    "y_pred : 推定値のndarray (n_samples,)\n",
    "y_test_one_hot : 検証データの正解ラベル(n_samples,)\n",
    "X_test : 検証データの特徴量（n_samples, n_features)\n",
    "\"\"\"\n",
    "import numpy as np\n",
    "import matplotlib.pyplot as plt\n",
    "\n",
    "num = 36 # いくつ表示するか\n",
    "\n",
    "true_false = y_pred==y_test\n",
    "false_list = np.where(true_false==False)[0].astype(np.int)\n",
    "\n",
    "if false_list.shape[0] < num:\n",
    "    num = false_list.shape[0]\n",
    "fig = plt.figure(figsize=(6, 6))\n",
    "fig.subplots_adjust(left=0, right=0.8,  bottom=0, top=0.8, hspace=1, wspace=0.5)\n",
    "for i in range(num):\n",
    "    ax = fig.add_subplot(6, 6, i + 1, xticks=[], yticks=[])\n",
    "    ax.set_title(\"{} / {}\".format(y_pred[false_list[i]],y_test[false_list[i]]))\n",
    "    ax.imshow(X_test.reshape(-1,28,28)[false_list[i]], cmap='gray')"
   ]
  },
  {
   "cell_type": "code",
   "execution_count": null,
   "metadata": {},
   "outputs": [],
   "source": []
  }
 ],
 "metadata": {
  "kernelspec": {
   "display_name": "Python 3",
   "language": "python",
   "name": "python3"
  },
  "language_info": {
   "codemirror_mode": {
    "name": "ipython",
    "version": 3
   },
   "file_extension": ".py",
   "mimetype": "text/x-python",
   "name": "python",
   "nbconvert_exporter": "python",
   "pygments_lexer": "ipython3",
   "version": "3.7.4"
  }
 },
 "nbformat": 4,
 "nbformat_minor": 2
}
