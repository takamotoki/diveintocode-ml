{
 "cells": [
  {
   "cell_type": "code",
   "execution_count": 1,
   "metadata": {},
   "outputs": [],
   "source": [
    "import numpy as np\n",
    "import pandas as pd\n",
    "\n",
    "from sklearn.datasets import load_iris\n",
    "\n",
    "from sklearn.preprocessing import StandardScaler\n",
    "from sklearn.model_selection import train_test_split\n",
    "\n",
    "#分類問題\n",
    "from sklearn.tree import DecisionTreeClassifier\n",
    "\n",
    "from sklearn import metrics\n",
    "\n",
    "from matplotlib.colors import ListedColormap\n",
    "import matplotlib.patches as mpatches\n",
    "import matplotlib.pyplot as plt\n",
    "import seaborn as sns\n",
    "%matplotlib inline"
   ]
  },
  {
   "cell_type": "code",
   "execution_count": 2,
   "metadata": {},
   "outputs": [
    {
     "data": {
      "text/html": [
       "<div>\n",
       "<style scoped>\n",
       "    .dataframe tbody tr th:only-of-type {\n",
       "        vertical-align: middle;\n",
       "    }\n",
       "\n",
       "    .dataframe tbody tr th {\n",
       "        vertical-align: top;\n",
       "    }\n",
       "\n",
       "    .dataframe thead th {\n",
       "        text-align: right;\n",
       "    }\n",
       "</style>\n",
       "<table border=\"1\" class=\"dataframe\">\n",
       "  <thead>\n",
       "    <tr style=\"text-align: right;\">\n",
       "      <th></th>\n",
       "      <th>petal_length</th>\n",
       "      <th>petal_width</th>\n",
       "      <th>Species</th>\n",
       "    </tr>\n",
       "  </thead>\n",
       "  <tbody>\n",
       "    <tr>\n",
       "      <td>0</td>\n",
       "      <td>1.4</td>\n",
       "      <td>0.2</td>\n",
       "      <td>0</td>\n",
       "    </tr>\n",
       "    <tr>\n",
       "      <td>1</td>\n",
       "      <td>1.4</td>\n",
       "      <td>0.2</td>\n",
       "      <td>0</td>\n",
       "    </tr>\n",
       "    <tr>\n",
       "      <td>2</td>\n",
       "      <td>1.3</td>\n",
       "      <td>0.2</td>\n",
       "      <td>0</td>\n",
       "    </tr>\n",
       "    <tr>\n",
       "      <td>3</td>\n",
       "      <td>1.5</td>\n",
       "      <td>0.2</td>\n",
       "      <td>0</td>\n",
       "    </tr>\n",
       "    <tr>\n",
       "      <td>4</td>\n",
       "      <td>1.4</td>\n",
       "      <td>0.2</td>\n",
       "      <td>0</td>\n",
       "    </tr>\n",
       "  </tbody>\n",
       "</table>\n",
       "</div>"
      ],
      "text/plain": [
       "   petal_length  petal_width  Species\n",
       "0           1.4          0.2        0\n",
       "1           1.4          0.2        0\n",
       "2           1.3          0.2        0\n",
       "3           1.5          0.2        0\n",
       "4           1.4          0.2        0"
      ]
     },
     "execution_count": 2,
     "metadata": {},
     "output_type": "execute_result"
    }
   ],
   "source": [
    "iris_dataset = load_iris()\n",
    "\n",
    "X_columns = ['sepal_length', 'sepal_width', 'petal_length', 'petal_width']\n",
    "X = pd.DataFrame(iris_dataset.data, columns=X_columns)\n",
    "y = pd.DataFrame(iris_dataset.target, columns=[\"Species\"])\n",
    "df = pd.concat([X, y], axis=1)\n",
    "\n",
    "df = df.loc[:, [\"petal_length\", \"petal_width\", \"Species\"]]\n",
    "df.head()"
   ]
  },
  {
   "cell_type": "code",
   "execution_count": 3,
   "metadata": {},
   "outputs": [
    {
     "data": {
      "image/png": "[encoded data removed]",
      "text/plain": [
       "<Figure size 432x288 with 1 Axes>"
      ]
     },
     "metadata": {
      "needs_background": "light"
     },
     "output_type": "display_data"
    }
   ],
   "source": [
    "plt.scatter(df[(df['Species'] == 0).values]['petal_length'],\n",
    "            df[(df['Species'] == 0).values]['petal_width'],\n",
    "            label = 'iris-setosa',\n",
    "            cmap = 'viridis')\n",
    "\n",
    "plt.scatter(df[(df['Species'] == 1).values]['petal_length'],\n",
    "            df[(df['Species'] == 1).values]['petal_width'],\n",
    "            label = 'iris-versicolor',\n",
    "            cmap = 'viridis')\n",
    "\n",
    "plt.scatter(df[(df['Species'] == 2).values]['petal_length'],\n",
    "            df[(df['Species'] == 2).values]['petal_width'],\n",
    "            label = 'iris-virginica',\n",
    "            cmap = 'viridis')\n",
    "\n",
    "plt.xlabel('petal_length')\n",
    "plt.ylabel('petal_width')\n",
    "plt.legend()\n",
    "plt.show()"
   ]
  },
  {
   "cell_type": "code",
   "execution_count": 4,
   "metadata": {},
   "outputs": [],
   "source": [
    "class DecisionTreeNode(object):\n",
    "    \"\"\"\n",
    "    決定木分類器のノードクラス\n",
    "\n",
    "    Parameters\n",
    "    ----------\n",
    "    max_depth : int\n",
    "      決定木の深さ\n",
    "    X : 次の形のndarray, shape (n_samples, n_features)\n",
    "        各ノードの特徴量\n",
    "    y : 次の形のndarray, shape (n_samples, )\n",
    "        各ノードの正解値\n",
    "    \"\"\"\n",
    "    def __init__(self, X, y, max_depth):\n",
    "        # ハイパーパラメータを属性として記録\n",
    "        self.left_class = None\n",
    "        self.right_class = None\n",
    "        self.max_depth = max_depth\n",
    "        self.depth = None\n",
    "        self.X = X\n",
    "        self.y = y\n",
    "        self.best_threshold = None\n",
    "        self.best_feature = None\n",
    "        self.gini_impurity_min = None\n",
    "        self.label = np.argmax(np.bincount(y)) #各ノードに含まれるサンプルのうち、最も多いクラスラベル                \n",
    "        self.classes = np.unique(y) # 各ノード所在のクラス値\n",
    "        self.n_features_ = X.shape[1] # 各ノード所在の列数\n",
    "        self.total_sample = len(y) # 各ノード所在のサンプルの総数\n",
    "        \n",
    "    def __compute_gini_impurity__(self, X, y, feature_index, threshold):\n",
    "        \"\"\"\n",
    "        ジニ不純度を計算する関数\n",
    "        __search_best_split__より呼ばれる\n",
    "        \"\"\"\n",
    "        gini_impurity = 0\n",
    "\n",
    "        # search_best_splitより渡されたvalueをthresholdに見立て、\n",
    "        # 該当の特徴量に対応するy変数を閾値以上の列と閾値未満の列に分割\n",
    "        divide_y = [y[X[:, feature_index] >= threshold], y[X[:, feature_index] < threshold]]\n",
    "\n",
    "        # ジニ不純度の計算\n",
    "        for array_group in divide_y:\n",
    "            sum_square_sample_rate = 0\n",
    "            for class_ in self.classes:\n",
    "                p = np.sum(array_group == class_)/len(array_group)\n",
    "                sum_square_sample_rate += np.square(p)\n",
    "            gini_impurity += (1 - sum_square_sample_rate) * (len(array_group) / self.total_sample)\n",
    "\n",
    "        return gini_impurity\n",
    "        \n",
    "    def __search_best_split__(self, X, y):\n",
    "        \"\"\"\n",
    "        最良の閾値でサンプルを分割する関数\n",
    "        特徴量別行別にジニ不純度を計算し、\n",
    "        ジニ不純度が最小の値が最良の閾値を構成\n",
    "        \"\"\"\n",
    "        best_threshold = None\n",
    "        best_feature = None\n",
    "        gini_impurity = None\n",
    "        gini_impurity_min = 1 #初期に最大値1を設定\n",
    "\n",
    "        for feature_index in range(self.n_features_):\n",
    "            values = X[:, feature_index]\n",
    "            for value in values:\n",
    "                gini_impurity = self.__compute_gini_impurity__(X, y, feature_index, value)\n",
    "                if gini_impurity_min > gini_impurity:\n",
    "                    gini_impurity_min = gini_impurity\n",
    "                    best_threshold = value\n",
    "                    best_feature = feature_index\n",
    "                    \n",
    "        return gini_impurity_min, best_threshold, best_feature \n",
    "    \n",
    "    def __split__(self, depth):        \n",
    "        self.depth = depth # 現在の深さ\n",
    "        self.gini_impurity_min, self.best_threshold, self.best_feature = self.__search_best_split__(self.X, self.y)\n",
    "        print('Depth: {}, Sep at Feature: {},Threshold: {}, Label: {}'\n",
    "              .format(self.depth, self.best_feature, self.best_threshold, self.label))\n",
    "\n",
    "        # 木の深さがmax_depthに達したとき、又は、ジニ不純度が0になったときは処理を終了\n",
    "        if self.depth == self.max_depth or self.gini_impurity_min == 0:\n",
    "            return\n",
    "        \n",
    "        #  最良の閾値以上の左列と最良の閾値未満の右列に分割(True, False)\n",
    "        index_left = self.X[:, self.best_feature] >= self.best_threshold\n",
    "        index_right = self.X[:, self.best_feature] < self.best_threshold\n",
    "        \n",
    "        # 左側・右側の子ノードのインスタンスを生成\n",
    "        self.left_class = DecisionTreeNode(self.X[index_left],  self.y[index_left], self.max_depth)\n",
    "        self.right_class = DecisionTreeNode(self.X[index_right], self.y[index_right], self.max_depth)\n",
    "        \n",
    "        # 深さをプラス1した上で、生成した左側・右側の子ノードのインスタンスよりsplit関数を再帰的に処理\n",
    "        self.left_class.__split__(self.depth + 1)\n",
    "        self.right_class.__split__(self.depth + 1)\n",
    "        \n",
    "    def __predict__(self, X_features):\n",
    "        # 木の深さがmax_depthに達したとき、又は、ジニ不純度が0になったときは処理を終了\n",
    "        # 各ノードに含まれているサンプルのうち最も多いクラスをリターン\n",
    "        if self.gini_impurity_min == 0.0 or self.depth == self.max_depth:\n",
    "            return self.label\n",
    "        else:\n",
    "            # 行毎に渡された特徴量Xに対して、最良の特徴量が最良の閾値以上のときは左側の子ノード\n",
    "            if X_features[self.best_feature] >= self.best_threshold:\n",
    "                return self.left_class.__predict__(X_features)\n",
    "            else:\n",
    "                return self.right_class.__predict__(X_features)    \n",
    "    \n",
    "class ScratchDesicionTreeClassifier(object):\n",
    "    \"\"\"\n",
    "    決定木分類器のスクラッチ実装\n",
    "\n",
    "    Parameters\n",
    "    ----------\n",
    "    max_depth : int\n",
    "      決定木の深さ\n",
    "    \"\"\"\n",
    "    def __init__(self, max_depth):\n",
    "        self.max_depth = max_depth\n",
    "        self.tree = None\n",
    "   \n",
    "    def fit(self, X, y):\n",
    "        \"\"\"\n",
    "        決定木分類器を学習する\n",
    "        DecisionTreeNodeの子オブジェクトを再帰的に生成\n",
    "        Parameters\n",
    "        ----------\n",
    "        X : 次の形のndarray, shape (n_samples, n_features)\n",
    "            訓練データの特徴量\n",
    "        y : 次の形のndarray, shape (n_samples, )\n",
    "            訓練データの正解値\n",
    "        \"\"\" \n",
    "        initial_depth = 0\n",
    "        self.tree = DecisionTreeNode(X, y, self.max_depth)\n",
    "        self.tree.__split__(initial_depth)\n",
    "   \n",
    "    def predict(self, X):\n",
    "        \"\"\"\n",
    "        決定木分類器を使いラベルを推定する\n",
    "        \"\"\"\n",
    "        y_pred = []\n",
    "        for X_features in X:\n",
    "            y_pred.append(self.tree.__predict__(X_features))\n",
    "\n",
    "        return np.array(y_pred)"
   ]
  },
  {
   "cell_type": "code",
   "execution_count": 5,
   "metadata": {},
   "outputs": [],
   "source": [
    "X = df.iloc[:, [0, 1]].values\n",
    "y = df.iloc[:, 2].values\n",
    "X_train, X_test, y_train, y_test = train_test_split(X, y, test_size=0.30, random_state=3) "
   ]
  },
  {
   "cell_type": "code",
   "execution_count": 6,
   "metadata": {},
   "outputs": [],
   "source": [
    "def evaluate(y, y_pred):\n",
    "    \"\"\"\n",
    "    2値分類の評価指標を計算・描画する。\n",
    "    \"\"\"\n",
    "    acc = metrics.accuracy_score(y, y_pred)\n",
    "    precision = metrics.precision_score(y, y_pred, average='micro')\n",
    "    recall = metrics.recall_score(y, y_pred, average='micro')\n",
    "    f1 = metrics.f1_score(y, y_pred, average='micro')\n",
    "    \n",
    "    plt.figure(figsize=(1.6, 1.2))\n",
    "    cm_def = metrics.confusion_matrix(y, y_pred)\n",
    "    sns.heatmap(cm_def, annot=True, cmap='Blues')\n",
    "    plt.title('Confusion Matrix')\n",
    "    plt.show()\n",
    "    return acc, precision, recall, f1"
   ]
  },
  {
   "cell_type": "markdown",
   "metadata": {},
   "source": [
    "__scratch 決定木__"
   ]
  },
  {
   "cell_type": "code",
   "execution_count": 7,
   "metadata": {},
   "outputs": [
    {
     "name": "stdout",
     "output_type": "stream",
     "text": [
      "Depth: 0, Sep at Feature: 0,Threshold: 3.0, Label: 1\n",
      "Depth: 1, Sep at Feature: 0,Threshold: 4.8, Label: 1\n",
      "Depth: 1, Sep at Feature: 0,Threshold: 1.7, Label: 0\n"
     ]
    },
    {
     "name": "stderr",
     "output_type": "stream",
     "text": [
      "/Users/takahiromotoki/.pyenv/versions/anaconda3-2019.10/lib/python3.7/site-packages/ipykernel_launcher.py:45: RuntimeWarning: invalid value encountered in long_scalars\n"
     ]
    },
    {
     "data": {
      "text/plain": [
       "array([0, 0, 0, 0, 0, 1, 1, 0, 1, 1, 1, 0, 1, 1, 1, 0, 1, 1, 1, 0, 1, 1,\n",
       "       1, 1, 0, 1, 1, 1, 1, 1, 0, 0, 1, 1, 0, 0, 1, 0, 1, 1, 1, 1, 0, 0,\n",
       "       1])"
      ]
     },
     "execution_count": 7,
     "metadata": {},
     "output_type": "execute_result"
    }
   ],
   "source": [
    "model = ScratchDesicionTreeClassifier(max_depth=1)\n",
    "model.fit(X_train, y_train)\n",
    "y_pred = model.predict(X_test)\n",
    "y_pred"
   ]
  },
  {
   "cell_type": "code",
   "execution_count": 8,
   "metadata": {},
   "outputs": [
    {
     "data": {
      "image/png": "[encoded data removed]",
      "text/plain": [
       "<Figure size 115.2x86.4 with 2 Axes>"
      ]
     },
     "metadata": {
      "needs_background": "light"
     },
     "output_type": "display_data"
    },
    {
     "name": "stdout",
     "output_type": "stream",
     "text": [
      "Accuracy : 0.69\n",
      "Precision : 0.69\n",
      "Recall : 0.69\n",
      "F1 : 0.69\n",
      "\n"
     ]
    }
   ],
   "source": [
    "print('Accuracy : {:.2f}\\n'\n",
    "      'Precision : {:.2f}\\n'\n",
    "      'Recall : {:.2f}\\n'\n",
    "      'F1 : {:.2f}\\n'\n",
    "      .format(*evaluate(y_test, y_pred)))"
   ]
  },
  {
   "cell_type": "markdown",
   "metadata": {},
   "source": [
    "__scikit-learn 決定木__"
   ]
  },
  {
   "cell_type": "code",
   "execution_count": 9,
   "metadata": {},
   "outputs": [
    {
     "data": {
      "text/plain": [
       "array([0, 0, 0, 0, 0, 1, 1, 0, 1, 1, 1, 0, 1, 1, 1, 0, 1, 1, 1, 0, 1, 1,\n",
       "       1, 1, 0, 1, 1, 1, 1, 1, 0, 0, 1, 1, 0, 0, 1, 0, 1, 1, 1, 1, 0, 0,\n",
       "       1])"
      ]
     },
     "execution_count": 9,
     "metadata": {},
     "output_type": "execute_result"
    }
   ],
   "source": [
    "dt_model = DecisionTreeClassifier(max_depth=1)\n",
    "dt_model.fit(X_train, y_train.ravel())\n",
    "dt_pred = dt_model.predict(X_test)\n",
    "dt_pred"
   ]
  },
  {
   "cell_type": "code",
   "execution_count": 10,
   "metadata": {
    "scrolled": true
   },
   "outputs": [
    {
     "data": {
      "image/png": "[encoded data removed]",
      "text/plain": [
       "<Figure size 115.2x86.4 with 2 Axes>"
      ]
     },
     "metadata": {
      "needs_background": "light"
     },
     "output_type": "display_data"
    },
    {
     "name": "stdout",
     "output_type": "stream",
     "text": [
      "Accuracy : 0.69\n",
      "Precision : 0.69\n",
      "Recall : 0.69\n",
      "F1 : 0.69\n",
      "\n"
     ]
    }
   ],
   "source": [
    "print('Accuracy : {:.2f}\\n'\n",
    "      'Precision : {:.2f}\\n'\n",
    "      'Recall : {:.2f}\\n'\n",
    "      'F1 : {:.2f}\\n'\n",
    "      .format(*evaluate(y_test, dt_pred)))"
   ]
  },
  {
   "cell_type": "markdown",
   "metadata": {},
   "source": [
    "### 【問題1】不純度を求める関数\n",
    "ノード の ジニ不純度 を計算する関数を作成してください。ノード $t$ に対するジニ不純度 $I(t)$ は以下の数式で求まります。クラスが混じり合っているほどジニ不純度は高くなります。\n",
    "\n",
    "$$\n",
    "I(t)=1-\\displaystyle \\sum_{i=1}^K P^2(C_{i}|t)\n",
    "= 1-\\displaystyle \\sum_{i=1}^K (\\frac{N_{t,i}}{N_{t,all}})^2\n",
    "$$\n",
    "\n",
    "\n",
    "$t$ : ノードのインデックス\n",
    "\n",
    "\n",
    "$i$ : クラスのインデックス\n",
    "\n",
    "\n",
    "$K$ : クラスの数\n",
    "\n",
    "\n",
    "$C_i$ : i番目のクラス\n",
    "\n",
    "\n",
    "$P(C_i|t)$ :　t番目のノードにおける$C_i$の割合\n",
    "\n",
    "\n",
    "$N_{t,i}$ : t番目のノードのi番目のクラスに属するサンプル数\n",
    "\n",
    "\n",
    "$N_{t,all}$ : t番目のノードのサンプルの総数\n",
    "\n",
    "\n",
    "まずは簡単な例を作り、手計算と関数の結果を比較してください。\n",
    "\n",
    "\n",
    "《例》\n",
    "\n",
    "\n",
    "- クラス1:サンプル数15, クラス2:サンプル数15 → ジニ不純度0.500\n",
    "- クラス1:サンプル数15, クラス2:サンプル数15, クラス3:サンプル数15 → ジニ不純度0.667\n",
    "- クラス1:サンプル数18, クラス2:サンプル数12 → ジニ不純度0.480\n",
    "- クラス1:サンプル数30, クラス2:サンプル数0 → ジニ不純度0.000"
   ]
  },
  {
   "cell_type": "code",
   "execution_count": null,
   "metadata": {},
   "outputs": [],
   "source": []
  },
  {
   "cell_type": "markdown",
   "metadata": {},
   "source": [
    "### 【問題2】情報利得を求める関数\n",
    "次に、ノード間の 情報利得 を計算する関数を作成してください。問題1で作成したジニ不純度 $I(t)$ を計算する関数を呼び出して使います。情報利得$IG$は以下の数式で求まります。うまく分けられている時ほど情報利得は大きくなります。\n",
    "\n",
    "\n",
    "ここで分岐は2つのみであるため、分岐先を「左側のノード・右側のノード」と呼びます。\n",
    "\n",
    "$$\n",
    "IG(p) = I(p) - \\frac{N_{left,all}}{N_{p,all}}I(left) - \\frac{N_{right,all}}{N_{p,all}}I(right)\n",
    "$$\n",
    "\n",
    "\n",
    "$p$ : 親ノードを示すインデックス\n",
    "\n",
    "\n",
    "$left$ : 左側のノードを示すインデックス\n",
    "\n",
    "\n",
    "$right$ : 右側のノードを示すインデックス\n",
    "\n",
    "\n",
    "まずは簡単な例を作り、手計算と関数の結果を比較してください。\n",
    "\n",
    "\n",
    "《例》\n",
    "\n",
    "\n",
    "左ノードクラス1:サンプル数10, 左ノードクラス2:サンプル数30, 右ノードクラス1:サンプル数20, 右ノードクラス2:サンプル数5 → 情報利得0.143"
   ]
  },
  {
   "cell_type": "code",
   "execution_count": null,
   "metadata": {},
   "outputs": [],
   "source": []
  },
  {
   "cell_type": "markdown",
   "metadata": {},
   "source": [
    "### 【問題3】学習\n",
    "空間の分割を行い、決定木のグラフを生成するコードを作成してください。今は深さ1の決定木なので、分割を1回だけ行います。ここでグラフを生成するとは、1回の分割の際の条件としてどの特徴量がいくつ以上の時とするかを求めるということです。\n",
    "\n",
    "\n",
    "訓練データに対して全ての組み合わせの分割を行い、その中でノード間の情報利得が最大となる分割をそのノードの分割基準として記録します。\n",
    "\n",
    "\n",
    "クラスが混ざらない不純度が0のノード、または指定された深さのノードが __葉ノード__ となります。葉ノードにはクラスを記録しておき、これを推定時に分類するクラスとします。クラスが混ざらない場合はそのままのクラスを記録し、混ざっている場合は多数決により決めます。\n",
    "\n",
    "\n",
    "《組み合わせの取り方》\n",
    "\n",
    "\n",
    "全ての組み合わせの取り方は、最も単純には各特徴量の値自体をしきい値にして分割を行う方法があります。片側の端は今回のスクラッチはこの方法で行なってください。\n",
    "\n",
    "\n",
    "他には中間の値をしきい値にする方法もあり、scikit-learnではこの方法が用いられています。\n",
    "\n",
    "\n",
    "《補足》\n",
    "\n",
    "\n",
    "問題2の情報利得を計算する関数はこの問題3で利用する上では、親ノードの不純度 $I(p)$ は固定されるため、左右のノードの不純度の合計を計算するだけでも同じ結果が得られることになります。しかし、ここでは親ノードを考慮した情報利得を計算する実装を行なってください。"
   ]
  },
  {
   "cell_type": "code",
   "execution_count": null,
   "metadata": {},
   "outputs": [],
   "source": []
  },
  {
   "cell_type": "markdown",
   "metadata": {},
   "source": [
    "### 【問題4】推定\n",
    "推定する仕組みを実装してください。ScratchDecesionTreeClassifierDepth1クラスの雛形に含まれるpredictメソッドに書き加えてください。\n",
    "\n",
    "\n",
    "入力されたデータの値を学習した条件で判定していき、どの葉ノードに到達するかを見ます。葉ノードにはクラスが記録されているので、これが推定値となります。"
   ]
  },
  {
   "cell_type": "code",
   "execution_count": null,
   "metadata": {},
   "outputs": [],
   "source": []
  },
  {
   "cell_type": "markdown",
   "metadata": {},
   "source": [
    "### 【問題5】学習と推定\n",
    "機械学習スクラッチ入門のSprintで用意したシンプルデータセット2の2値分類に対してスクラッチ実装の学習と推定を行なってください。\n",
    "\n",
    "\n",
    "scikit-learnによる実装と比べ、正しく動いているかを確認してください。\n",
    "\n",
    "\n",
    "AccuracyやPrecision、Recallなどの指標値はscikit-learnを使用してください。"
   ]
  },
  {
   "cell_type": "markdown",
   "metadata": {},
   "source": [
    "#### 3. シンプルデータセット2"
   ]
  },
  {
   "cell_type": "code",
   "execution_count": 11,
   "metadata": {},
   "outputs": [],
   "source": [
    "X = np.array([[-0.44699 , -2.8073  ],[-1.4621  , -2.4586  ],\n",
    "       [ 0.10645 ,  1.9242  ],[-3.5944  , -4.0112  ],\n",
    "       [-0.9888  ,  4.5718  ],[-3.1625  , -3.9606  ],\n",
    "       [ 0.56421 ,  0.72888 ],[-0.60216 ,  8.4636  ],\n",
    "       [-0.61251 , -0.75345 ],[-0.73535 , -2.2718  ],\n",
    "       [-0.80647 , -2.2135  ],[ 0.86291 ,  2.3946  ],\n",
    "       [-3.1108  ,  0.15394 ],[-2.9362  ,  2.5462  ],\n",
    "       [-0.57242 , -2.9915  ],[ 1.4771  ,  3.4896  ],\n",
    "       [ 0.58619 ,  0.37158 ],[ 0.6017  ,  4.3439  ],\n",
    "       [-2.1086  ,  8.3428  ],[-4.1013  , -4.353   ],\n",
    "       [-1.9948  , -1.3927  ],[ 0.35084 , -0.031994],\n",
    "       [ 0.96765 ,  7.8929  ],[-1.281   , 15.6824  ],\n",
    "       [ 0.96765 , 10.083   ],[ 1.3763  ,  1.3347  ],\n",
    "       [-2.234   , -2.5323  ],[-2.9452  , -1.8219  ],\n",
    "       [ 0.14654 , -0.28733 ],[ 0.5461  ,  5.8245  ],\n",
    "       [-0.65259 ,  9.3444  ],[ 0.59912 ,  5.3524  ],\n",
    "       [ 0.50214 , -0.31818 ],[-3.0603  , -3.6461  ],\n",
    "       [-6.6797  ,  0.67661 ],[-2.353   , -0.72261 ],\n",
    "       [ 1.1319  ,  2.4023  ],[-0.12243 ,  9.0162  ],\n",
    "       [-2.5677  , 13.1779  ],[ 0.057313,  5.4681  ]])\n",
    "y = np.array([0, 0, 0, 0, 0, 0, 0, 0, 0, 0, 0, 0, 0, 0, 0, 0, 0, 0, 0, 0, 1, 1,\n",
    "       1, 1, 1, 1, 1, 1, 1, 1, 1, 1, 1, 1, 1, 1, 1, 1, 1, 1])"
   ]
  },
  {
   "cell_type": "markdown",
   "metadata": {},
   "source": [
    "__scratch 決定木__"
   ]
  },
  {
   "cell_type": "code",
   "execution_count": 12,
   "metadata": {},
   "outputs": [
    {
     "name": "stdout",
     "output_type": "stream",
     "text": [
      "Depth: 0, Sep at Feature: 1,Threshold: 5.3524, Label: 0\n",
      "Depth: 1, Sep at Feature: 0,Threshold: -0.12243, Label: 1\n",
      "Depth: 1, Sep at Feature: 1,Threshold: 2.5462, Label: 0\n"
     ]
    },
    {
     "name": "stderr",
     "output_type": "stream",
     "text": [
      "/Users/takahiromotoki/.pyenv/versions/anaconda3-2019.10/lib/python3.7/site-packages/ipykernel_launcher.py:45: RuntimeWarning: invalid value encountered in long_scalars\n"
     ]
    },
    {
     "data": {
      "text/plain": [
       "array([0, 0, 0, 0, 0, 0, 0, 1, 0, 0, 0, 0, 0, 0, 0, 0, 0, 0, 1, 0, 0, 0,\n",
       "       1, 1, 1, 0, 0, 0, 0, 1, 1, 1, 0, 0, 0, 0, 0, 1, 1, 1])"
      ]
     },
     "execution_count": 12,
     "metadata": {},
     "output_type": "execute_result"
    }
   ],
   "source": [
    "model = ScratchDesicionTreeClassifier(max_depth=1)\n",
    "model.fit(X, y.ravel())\n",
    "y_pred = model.predict(X)\n",
    "y_pred"
   ]
  },
  {
   "cell_type": "code",
   "execution_count": 13,
   "metadata": {},
   "outputs": [
    {
     "data": {
      "image/png": "[encoded data removed]",
      "text/plain": [
       "<Figure size 115.2x86.4 with 2 Axes>"
      ]
     },
     "metadata": {
      "needs_background": "light"
     },
     "output_type": "display_data"
    },
    {
     "name": "stdout",
     "output_type": "stream",
     "text": [
      "Accuracy : 0.68\n",
      "Precision : 0.68\n",
      "Recall : 0.68\n",
      "F1 : 0.68\n",
      "\n"
     ]
    }
   ],
   "source": [
    "print('Accuracy : {:.2f}\\n'\n",
    "      'Precision : {:.2f}\\n'\n",
    "      'Recall : {:.2f}\\n'\n",
    "      'F1 : {:.2f}\\n'\n",
    "      .format(*evaluate(y, y_pred)))"
   ]
  },
  {
   "cell_type": "markdown",
   "metadata": {},
   "source": [
    "__scikit-learn 決定木__"
   ]
  },
  {
   "cell_type": "code",
   "execution_count": 14,
   "metadata": {},
   "outputs": [
    {
     "data": {
      "text/plain": [
       "array([0, 0, 0, 0, 0, 0, 0, 1, 0, 0, 0, 0, 0, 0, 0, 0, 0, 0, 1, 0, 0, 0,\n",
       "       1, 1, 1, 0, 0, 0, 0, 1, 1, 1, 0, 0, 0, 0, 0, 1, 1, 1])"
      ]
     },
     "execution_count": 14,
     "metadata": {},
     "output_type": "execute_result"
    }
   ],
   "source": [
    "dt_model = DecisionTreeClassifier(max_depth=1)\n",
    "dt_model.fit(X, y.ravel())\n",
    "dt_pred = dt_model.predict(X)\n",
    "dt_pred"
   ]
  },
  {
   "cell_type": "code",
   "execution_count": 15,
   "metadata": {
    "scrolled": false
   },
   "outputs": [
    {
     "data": {
      "image/png": "[encoded data removed]",
      "text/plain": [
       "<Figure size 115.2x86.4 with 2 Axes>"
      ]
     },
     "metadata": {
      "needs_background": "light"
     },
     "output_type": "display_data"
    },
    {
     "name": "stdout",
     "output_type": "stream",
     "text": [
      "Accuracy : 0.68\n",
      "Precision : 0.68\n",
      "Recall : 0.68\n",
      "F1 : 0.68\n",
      "\n"
     ]
    }
   ],
   "source": [
    "print('Accuracy : {:.2f}\\n'\n",
    "      'Precision : {:.2f}\\n'\n",
    "      'Recall : {:.2f}\\n'\n",
    "      'F1 : {:.2f}\\n'\n",
    "      .format(*evaluate(y, dt_pred)))"
   ]
  },
  {
   "cell_type": "code",
   "execution_count": null,
   "metadata": {},
   "outputs": [],
   "source": []
  },
  {
   "cell_type": "markdown",
   "metadata": {},
   "source": [
    "### 【問題6】決定領域の可視化\n",
    "決定領域を可視化してください。"
   ]
  },
  {
   "cell_type": "code",
   "execution_count": 16,
   "metadata": {},
   "outputs": [],
   "source": [
    "def decision_region(X, y, model, step=0.01, title='decision region',\n",
    "                    xlabel='f0', ylabel='f1', target_names=['0', '1']):\n",
    "    \"\"\"\n",
    "    2値分類を2次元の特徴量で学習したモデルの決定領域を描く。\n",
    "    背景の色が学習したモデルによる推定値から描画される。\n",
    "    散布図の点は訓練データまたは検証データである。\n",
    "\n",
    "    Parameters\n",
    "    ----------------\n",
    "    X : ndarray, shape(n_samples, 2)\n",
    "        特徴量\n",
    "    y : ndarray, shape(n_samples,)\n",
    "        ラベル\n",
    "    model : object\n",
    "        学習したモデルのインスンタスを入れる\n",
    "    step : float, (default : 0.1)\n",
    "        推定値を計算する間隔を設定する\n",
    "    title : str\n",
    "        グラフのタイトルの文章を与える\n",
    "    xlabel, ylabel : str\n",
    "        軸ラベルの文章を与える\n",
    "    target_names= : list of str\n",
    "        凡例の一覧を与える\n",
    "    \"\"\"\n",
    "    # setting\n",
    "    scatter_color = ['red', 'blue']\n",
    "    contourf_color = ['pink', 'skyblue']\n",
    "    n_class = 2\n",
    "    # pred\n",
    "    mesh_f0, mesh_f1  = np.meshgrid(np.arange(np.min(X[:,0])-0.5,\n",
    "                                              np.max(X[:,0])+0.5, step),\n",
    "                                    np.arange(np.min(X[:,1])-0.5,\n",
    "                                              np.max(X[:,1])+0.5, step))\n",
    "\n",
    "    mesh = np.c_[np.ravel(mesh_f0),np.ravel(mesh_f1)]\n",
    "    y_pred = model.predict(mesh).reshape(mesh_f0.shape)\n",
    "    # plot\n",
    "    plt.title(title)\n",
    "    plt.xlabel(xlabel)\n",
    "    plt.ylabel(ylabel)\n",
    "    plt.contourf(mesh_f0, mesh_f1, y_pred, n_class-1, cmap=ListedColormap(contourf_color))\n",
    "    plt.contour(mesh_f0, mesh_f1, y_pred, n_class-1, colors='y', linewidths=3, alpha=0.5)\n",
    "    for i, target in enumerate(set(y)):\n",
    "        plt.scatter(X[y==target][:, 0], X[y==target][:, 1], s=80,\n",
    "                    color=scatter_color[i], label=target_names[i], marker='o')\n",
    "    patches = [mpatches.Patch(color=scatter_color[i], label=target_names[i]) for i in range(n_class)]\n",
    "    plt.legend(handles=patches)\n",
    "    plt.legend()\n",
    "    plt.show()"
   ]
  },
  {
   "cell_type": "markdown",
   "metadata": {},
   "source": [
    "__scratch 決定木__"
   ]
  },
  {
   "cell_type": "code",
   "execution_count": 17,
   "metadata": {},
   "outputs": [
    {
     "data": {
      "image/png": "[encoded data removed]",
      "text/plain": [
       "<Figure size 432x288 with 1 Axes>"
      ]
     },
     "metadata": {
      "needs_background": "light"
     },
     "output_type": "display_data"
    }
   ],
   "source": [
    "decision_region(X, y_pred, model)"
   ]
  },
  {
   "cell_type": "markdown",
   "metadata": {},
   "source": [
    "__scikit-learn 決定木__"
   ]
  },
  {
   "cell_type": "code",
   "execution_count": 18,
   "metadata": {},
   "outputs": [
    {
     "data": {
      "image/png": "[encoded data removed]",
      "text/plain": [
       "<Figure size 432x288 with 1 Axes>"
      ]
     },
     "metadata": {
      "needs_background": "light"
     },
     "output_type": "display_data"
    }
   ],
   "source": [
    "decision_region(X, dt_pred, dt_model)"
   ]
  },
  {
   "cell_type": "code",
   "execution_count": null,
   "metadata": {},
   "outputs": [],
   "source": []
  },
  {
   "cell_type": "markdown",
   "metadata": {},
   "source": [
    "### 【問題7】（アドバンス課題）深さ2の決定木分類器クラスの作成\n",
    "深さが2の決定木分類器のクラスScratchDecesionTreeClassifierDepth2を作成してください。\n",
    "\n",
    "\n",
    "深さ2とは空間の分割を2回行うことを指します。\n",
    "\n",
    "\n",
    "《ヒント》\n",
    "\n",
    "\n",
    "各ノードをインスタンスとして扱うと、任意の深さへの拡張が行いやすくなります。"
   ]
  },
  {
   "cell_type": "code",
   "execution_count": null,
   "metadata": {},
   "outputs": [],
   "source": []
  },
  {
   "cell_type": "markdown",
   "metadata": {},
   "source": [
    "### 【問題8】（アドバンス課題）深さに制限のない決定木分類器クラスの作成\n",
    "深さに制限のない決定木分類器のクラスScratchDecesionTreeClassifierDepthInfを作成してください。\n",
    "\n",
    "\n",
    "任意の深さを指定できるようにするとともに、指定しない場合は全ての葉ノードがジニ不純度0となるまで続けられるようにもしてください。"
   ]
  },
  {
   "cell_type": "code",
   "execution_count": 19,
   "metadata": {},
   "outputs": [],
   "source": [
    "iris_dataset = load_iris()\n",
    "\n",
    "X_columns = ['sepal_length', 'sepal_width', 'petal_length', 'petal_width']\n",
    "X = pd.DataFrame(iris_dataset.data, columns=X_columns)\n",
    "\n",
    "y = pd.DataFrame(iris_dataset.target, columns=[\"Species\"])\n",
    "\n",
    "df = pd.concat([X, y], axis=1)\n",
    "\n",
    "X = df.iloc[:, :4].values\n",
    "y = df.iloc[:, 4].values\n",
    "X_train, X_test, y_train, y_test = train_test_split(X, y, test_size=0.30, random_state=3) "
   ]
  },
  {
   "cell_type": "markdown",
   "metadata": {},
   "source": [
    "__scratch 決定木__"
   ]
  },
  {
   "cell_type": "code",
   "execution_count": 20,
   "metadata": {},
   "outputs": [
    {
     "name": "stdout",
     "output_type": "stream",
     "text": [
      "Depth: 0, Sep at Feature: 2,Threshold: 3.0, Label: 0\n",
      "Depth: 1, Sep at Feature: 3,Threshold: 1.8, Label: 1\n",
      "Depth: 2, Sep at Feature: 2,Threshold: 4.9, Label: 2\n",
      "Depth: 3, Sep at Feature: 0,Threshold: 6.3, Label: 2\n",
      "Depth: 3, Sep at Feature: 0,Threshold: 6.0, Label: 2\n",
      "Depth: 2, Sep at Feature: 2,Threshold: 5.0, Label: 1\n",
      "Depth: 3, Sep at Feature: 3,Threshold: 1.6, Label: 2\n",
      "Depth: 3, Sep at Feature: 3,Threshold: 1.7, Label: 1\n",
      "Depth: 1, Sep at Feature: 0,Threshold: 5.1, Label: 0\n"
     ]
    },
    {
     "name": "stderr",
     "output_type": "stream",
     "text": [
      "/Users/takahiromotoki/.pyenv/versions/anaconda3-2019.10/lib/python3.7/site-packages/ipykernel_launcher.py:45: RuntimeWarning: invalid value encountered in long_scalars\n"
     ]
    },
    {
     "data": {
      "text/plain": [
       "array([0, 0, 0, 0, 0, 0, 0, 0, 0, 0, 0, 0, 0, 0, 0, 0, 0, 0, 0, 0, 0, 0,\n",
       "       0, 0, 0, 0, 0, 0, 0, 0, 0, 0, 0, 0, 0, 0, 0, 0, 0, 0, 0, 0, 0, 0,\n",
       "       0, 0, 0, 0, 0, 0, 1, 1, 1, 1, 1, 1, 1, 1, 1, 1, 1, 1, 1, 1, 1, 1,\n",
       "       1, 1, 1, 1, 2, 1, 1, 1, 1, 1, 1, 2, 1, 1, 1, 1, 1, 2, 1, 1, 1, 1,\n",
       "       1, 1, 1, 1, 1, 1, 1, 1, 1, 1, 1, 1, 2, 2, 2, 2, 2, 2, 1, 2, 2, 2,\n",
       "       2, 2, 2, 2, 2, 2, 2, 2, 2, 2, 2, 2, 2, 2, 2, 2, 2, 2, 2, 2, 2, 2,\n",
       "       2, 2, 2, 2, 2, 2, 2, 2, 2, 2, 2, 2, 2, 2, 2, 2, 2, 2])"
      ]
     },
     "execution_count": 20,
     "metadata": {},
     "output_type": "execute_result"
    }
   ],
   "source": [
    "model = ScratchDesicionTreeClassifier(max_depth=3)\n",
    "model.fit(X, y.ravel())\n",
    "y_pred = model.predict(X)\n",
    "y_pred"
   ]
  },
  {
   "cell_type": "code",
   "execution_count": 21,
   "metadata": {},
   "outputs": [
    {
     "data": {
      "image/png": "[encoded data removed]",
      "text/plain": [
       "<Figure size 115.2x86.4 with 2 Axes>"
      ]
     },
     "metadata": {
      "needs_background": "light"
     },
     "output_type": "display_data"
    },
    {
     "name": "stdout",
     "output_type": "stream",
     "text": [
      "Accuracy : 0.97\n",
      "Precision : 0.97\n",
      "Recall : 0.97\n",
      "F1 : 0.97\n",
      "\n"
     ]
    }
   ],
   "source": [
    "print('Accuracy : {:.2f}\\n'\n",
    "      'Precision : {:.2f}\\n'\n",
    "      'Recall : {:.2f}\\n'\n",
    "      'F1 : {:.2f}\\n'\n",
    "      .format(*evaluate(y, y_pred)))"
   ]
  },
  {
   "cell_type": "markdown",
   "metadata": {},
   "source": [
    "__scikit-learn 決定木__"
   ]
  },
  {
   "cell_type": "code",
   "execution_count": 22,
   "metadata": {},
   "outputs": [
    {
     "data": {
      "text/plain": [
       "array([0, 0, 0, 0, 0, 0, 0, 0, 0, 0, 0, 0, 0, 0, 0, 0, 0, 0, 0, 0, 0, 0,\n",
       "       0, 0, 0, 0, 0, 0, 0, 0, 0, 0, 0, 0, 0, 0, 0, 0, 0, 0, 0, 0, 0, 0,\n",
       "       0, 0, 0, 0, 0, 0, 1, 1, 1, 1, 1, 1, 1, 1, 1, 1, 1, 1, 1, 1, 1, 1,\n",
       "       1, 1, 1, 1, 2, 1, 1, 1, 1, 1, 1, 2, 1, 1, 1, 1, 1, 2, 1, 1, 1, 1,\n",
       "       1, 1, 1, 1, 1, 1, 1, 1, 1, 1, 1, 1, 2, 2, 2, 2, 2, 2, 1, 2, 2, 2,\n",
       "       2, 2, 2, 2, 2, 2, 2, 2, 2, 2, 2, 2, 2, 2, 2, 2, 2, 2, 2, 2, 2, 2,\n",
       "       2, 2, 2, 2, 2, 2, 2, 2, 2, 2, 2, 2, 2, 2, 2, 2, 2, 2])"
      ]
     },
     "execution_count": 22,
     "metadata": {},
     "output_type": "execute_result"
    }
   ],
   "source": [
    "dt_model = DecisionTreeClassifier(max_depth=3)\n",
    "dt_model.fit(X, y.ravel())\n",
    "dt_pred = dt_model.predict(X)\n",
    "dt_pred"
   ]
  },
  {
   "cell_type": "code",
   "execution_count": 23,
   "metadata": {
    "scrolled": false
   },
   "outputs": [
    {
     "data": {
      "image/png": "[encoded data removed]",
      "text/plain": [
       "<Figure size 115.2x86.4 with 2 Axes>"
      ]
     },
     "metadata": {
      "needs_background": "light"
     },
     "output_type": "display_data"
    },
    {
     "name": "stdout",
     "output_type": "stream",
     "text": [
      "Accuracy : 0.97\n",
      "Precision : 0.97\n",
      "Recall : 0.97\n",
      "F1 : 0.97\n",
      "\n"
     ]
    }
   ],
   "source": [
    "print('Accuracy : {:.2f}\\n'\n",
    "      'Precision : {:.2f}\\n'\n",
    "      'Recall : {:.2f}\\n'\n",
    "      'F1 : {:.2f}\\n'\n",
    "      .format(*evaluate(y, dt_pred)))"
   ]
  },
  {
   "cell_type": "code",
   "execution_count": null,
   "metadata": {},
   "outputs": [],
   "source": []
  },
  {
   "cell_type": "markdown",
   "metadata": {},
   "source": [
    "[参考にしたサイト](https://hktech.hatenablog.com/entry/2018/10/05/004235)\\\n",
    "SVMより理論は理解し易いものであったが、\\\n",
    "任意の特徴量を閾値としてサンプルを分割した上で決定木の理論を組み込む過程が難解であったため、\\\n",
    "上記サイトを全て理解して若干修正を加えた。"
   ]
  },
  {
   "cell_type": "code",
   "execution_count": null,
   "metadata": {},
   "outputs": [],
   "source": []
  }
 ],
 "metadata": {
  "kernelspec": {
   "display_name": "Python 3",
   "language": "python",
   "name": "python3"
  },
  "language_info": {
   "codemirror_mode": {
    "name": "ipython",
    "version": 3
   },
   "file_extension": ".py",
   "mimetype": "text/x-python",
   "name": "python",
   "nbconvert_exporter": "python",
   "pygments_lexer": "ipython3",
   "version": "3.7.4"
  }
 },
 "nbformat": 4,
 "nbformat_minor": 2
}
