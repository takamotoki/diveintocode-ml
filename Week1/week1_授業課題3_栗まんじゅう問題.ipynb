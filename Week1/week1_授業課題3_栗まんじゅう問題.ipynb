{
 "cells": [
  {
   "cell_type": "markdown",
   "metadata": {
    "colab_type": "text",
    "id": "BSsRH19of-iJ"
   },
   "source": [
    "## 栗まんじゅう問題\n",
    "\n",
    "「バイバイン」は薬品で、これを振掛けるとその物体は5分ごとに倍に増えるという働きがあります。作中では栗まんじゅうを増やしますが、食べきれなくなったためロケットを使い宇宙に捨てました。\n",
    "\n",
    "ここで度々話題になるのが、栗まんじゅうはその後宇宙でどのように増えていくのかについてです。様々な議論がされていますが、今回は単純に栗まんじゅうの体積がどう増えるかを計算してみましょう。\n",
    "\n",
    "----\n",
    "\n",
    "1個の栗まんじゅうにバイバインを振りかけた場合、太陽系が栗まんじゅうで覆われるのは何分後でしょうか。これを計算するプログラムを作成してください。\n",
    "\n",
    "\n",
    "栗まんじゅうや太陽系の体積を調査した上で仮定して計算してください。栗まんじゅうの隙間や重力などは考えず、問題を単純化して構いません。\n",
    "\n",
    "\n",
    "ボールにバイバインを振りかけた時、東京ドームが一杯になる時間など他の状況にも適用できるような汎用的なプログラムを作成してください。また、グラフを表示するなど分かりやすいノートブックを作成してください。"
   ]
  },
  {
   "cell_type": "markdown",
   "metadata": {
    "colab_type": "text",
    "id": "aI8NORLjdwe3"
   },
   "source": [
    "- 栗まんじゅうの体積\\\n",
    "5cm x 5cm x 3cmと定義\n",
    "\n",
    "- 太陽系の半径\\\n",
    "14.5兆kmと定義\\\n",
    "大洋系は球体と定義"
   ]
  },
  {
   "cell_type": "code",
   "execution_count": 1,
   "metadata": {
    "colab": {},
    "colab_type": "code",
    "id": "YuzDLne6f4Gc"
   },
   "outputs": [],
   "source": [
    "import numpy as np\n",
    "import matplotlib.pyplot as plt"
   ]
  },
  {
   "cell_type": "code",
   "execution_count": 2,
   "metadata": {
    "colab": {},
    "colab_type": "code",
    "id": "VrubBDHpcowf"
   },
   "outputs": [],
   "source": [
    "KURI_DUMPLING = [0.5*10**-1, 0.5*10**-1, 0.3*10**-1] ##Width, Depth, Height\n",
    "KURI_DUMPLING_FLATTENING = KURI_DUMPLING[2] / KURI_DUMPLING[0] * 100\n",
    "SOLAR_SYSTEM = [14.5*10**15, 14.5*10**15, 14.5*10**15] ##Width, Depth, Height\n",
    "\n",
    "def volume_calc(target_profile):\n",
    "    target_volume = 4*np.pi*target_profile[0]*target_profile[1]*target_profile[2]/3\n",
    "    return target_volume\n",
    "\n",
    "def volume_calc_based_on_kurimanju(target_profile):\n",
    "    cnt = 0\n",
    "    kuri_dumpling_volume_list = []\n",
    "    target_volume = volume_calc(target_profile)\n",
    "    KURI_DUMPLING_VOLUME = volume_calc(KURI_DUMPLING)\n",
    "    kuri_dumpling_volume_list.append(KURI_DUMPLING_VOLUME)\n",
    "    tmp_KURI_DUMPLING_VOLUME = KURI_DUMPLING_VOLUME  \n",
    "\n",
    "    while True:\n",
    "        cnt += 1 # 5min counter\n",
    "        tmp_KURI_DUMPLING_VOLUME *= 2  ## twice the KURI_DUMPLING's volume.\n",
    "        kuri_dumpling_volume_list.append(tmp_KURI_DUMPLING_VOLUME)\n",
    "        if tmp_KURI_DUMPLING_VOLUME >= target_volume:\n",
    "            break\n",
    "        else:\n",
    "            pass\n",
    "\n",
    "    print(\"バイバインで増殖した栗まんじゅうが、ターゲットを覆うのは{}分後です。\".format(cnt*5))\n",
    "    plt.title(\"Kuri-Manju volume transition\")\n",
    "    plt.xlabel(\"5min passed index number\")\n",
    "    plt.ylabel(\"volume [m^3]\")\n",
    "    plt.plot(kuri_dumpling_volume_list)\n",
    "    plt.show()\n",
    "    return cnt, kuri_dumpling_volume_list"
   ]
  },
  {
   "cell_type": "code",
   "execution_count": 3,
   "metadata": {
    "colab": {
     "base_uri": "https://localhost:8080/",
     "height": 312
    },
    "colab_type": "code",
    "id": "cm7f3pNJoa62",
    "outputId": "98d03e99-3c1e-4d6b-b981-0e6f70328787"
   },
   "outputs": [
    {
     "name": "stdout",
     "output_type": "stream",
     "text": [
      "バイバインで増殖した栗まんじゅうが、ターゲットを覆うのは875分後です。\n"
     ]
    },
    {
     "data": {
      "image/png": "[encoded data removed]",
      "text/plain": [
       "<Figure size 432x288 with 1 Axes>"
      ]
     },
     "metadata": {
      "needs_background": "light"
     },
     "output_type": "display_data"
    }
   ],
   "source": [
    "cnt, kuri_dumpling_volume_list = volume_calc_based_on_kurimanju(SOLAR_SYSTEM)"
   ]
  },
  {
   "cell_type": "markdown",
   "metadata": {
    "colab": {},
    "colab_type": "code",
    "id": "qgJCLabBxDqx"
   },
   "source": [
    "ペアプログラミングのペア：杉山さん"
   ]
  }
 ],
 "metadata": {
  "colab": {
   "collapsed_sections": [],
   "name": "week1_授業課題3_栗まんじゅう問題.ipynb",
   "provenance": []
  },
  "kernelspec": {
   "display_name": "Python 3",
   "language": "python",
   "name": "python3"
  },
  "language_info": {
   "codemirror_mode": {
    "name": "ipython",
    "version": 3
   },
   "file_extension": ".py",
   "mimetype": "text/x-python",
   "name": "python",
   "nbconvert_exporter": "python",
   "pygments_lexer": "ipython3",
   "version": "3.7.4"
  }
 },
 "nbformat": 4,
 "nbformat_minor": 1
}
