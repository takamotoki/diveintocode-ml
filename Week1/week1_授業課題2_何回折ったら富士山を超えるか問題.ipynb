{
 "cells": [
  {
   "cell_type": "code",
   "execution_count": 1,
   "metadata": {
    "colab": {},
    "colab_type": "code",
    "id": "Spb1XpxbPQ50"
   },
   "outputs": [],
   "source": [
    "import math"
   ]
  },
  {
   "cell_type": "code",
   "execution_count": 2,
   "metadata": {
    "colab": {},
    "colab_type": "code",
    "id": "pesuWwo4SwUs"
   },
   "outputs": [],
   "source": [
    "DISTANCE_FROM_EARTH_TO_PROXIMA = 40141900000000000\n",
    "DISTANCE_FROM_EARTH_TO_MOON = 384400000\n",
    "DISTANCE_FROM_EARTH_TO_MTFUJI = 3776\n",
    "THICKNESS = 0.00008"
   ]
  },
  {
   "cell_type": "markdown",
   "metadata": {
    "colab_type": "text",
    "id": "Kvlk9SLtG9PB"
   },
   "source": [
    "### 【問題1】富士山を超える最小の折る回数"
   ]
  },
  {
   "cell_type": "markdown",
   "metadata": {
    "colab_type": "text",
    "id": "T465P4FSHIjw"
   },
   "source": [
    "厚さが「富士山(3776m)」を超えるのは何回紙を折った時か計算するプログラムを作成してください。"
   ]
  },
  {
   "cell_type": "code",
   "execution_count": 3,
   "metadata": {
    "colab": {
     "base_uri": "https://localhost:8080/",
     "height": 34
    },
    "colab_type": "code",
    "executionInfo": {
     "elapsed": 941,
     "status": "ok",
     "timestamp": 1594276776875,
     "user": {
      "displayName": "Takahiro Motoki",
      "photoUrl": "",
      "userId": "15598172162740427386"
     },
     "user_tz": -540
    },
    "id": "8QX57YduHFEA",
    "outputId": "d3b344dc-da0c-411f-b5ce-9932021d52ce"
   },
   "outputs": [],
   "source": [
    "folded_thickness = []\n",
    "temp_thickness = THICKNESS\n",
    "folded_thickness.append(temp_thickness)\n",
    "count = 0\n",
    "while True:\n",
    "    if folded_thickness[count] > DISTANCE_FROM_EARTH_TO_MTFUJI:\n",
    "        break\n",
    "    else:\n",
    "        count += 1\n",
    "        folded_thickness.append(temp_thickness * 2)\n",
    "        temp_thickness = folded_thickness[count]\n",
    "\n",
    "print(str(count) + \"回\")"
   ]
  },
  {
   "cell_type": "markdown",
   "metadata": {
    "colab_type": "text",
    "id": "WMkSyfXFMibY"
   },
   "source": [
    "### 【問題2】任意の厚さに対応した関数を作成"
   ]
  },
  {
   "cell_type": "markdown",
   "metadata": {
    "colab_type": "text",
    "id": "eCIjaJL6MvZ1"
   },
   "source": [
    "距離を入力すると、何回折った時に超えるかを出力する関数を作成してください。引数として、折る前の厚さ $t_{0}$ も設定できるようにしましょう。\n",
    "この関数を利用して、「最も近い太陽以外の恒星」に到達するには紙を何回折る必要があるか計算してください。「最も近い太陽以外の恒星」の距離は調査してください。"
   ]
  },
  {
   "cell_type": "markdown",
   "metadata": {},
   "source": [
    "- 調査\\\n",
    "「最も近い太陽以外の恒星」をキーワードにGoogle検索\\\n",
    "検索結果：地球に最も近い太陽以外の恒星\tプロキシマ・ケンタウリ\t4.243光年"
   ]
  },
  {
   "cell_type": "code",
   "execution_count": 4,
   "metadata": {
    "colab": {},
    "colab_type": "code",
    "id": "MEp0vAxJM1ll"
   },
   "outputs": [],
   "source": [
    "def folding_num_calc(thickness, distance):\n",
    "    folded_thickness_list = []\n",
    "    folded_thickness_list.append(thickness)\n",
    "    count = 0\n",
    "    while True:\n",
    "        if folded_thickness_list[count] > distance:\n",
    "            break\n",
    "        else:\n",
    "            count += 1\n",
    "            folded_thickness_list.append(thickness * 2)\n",
    "            thickness = folded_thickness_list[count]\n",
    "\n",
    "    return count, folded_thickness_list"
   ]
  },
  {
   "cell_type": "code",
   "execution_count": 5,
   "metadata": {
    "colab": {
     "base_uri": "https://localhost:8080/",
     "height": 34
    },
    "colab_type": "code",
    "executionInfo": {
     "elapsed": 839,
     "status": "ok",
     "timestamp": 1594276781719,
     "user": {
      "displayName": "Takahiro Motoki",
      "photoUrl": "",
      "userId": "15598172162740427386"
     },
     "user_tz": -540
    },
    "id": "xKtWdQsROWkj",
    "outputId": "e7da9e04-bf31-4a6c-9deb-c000bc71e350"
   },
   "outputs": [],
   "source": [
    "count, folded_thickness_list = folding_num_calc(THICKNESS, DISTANCE_FROM_EARTH_TO_PROXIMA)\n",
    "print(\"厚さ{:,.5f}m の紙を{}回折ると、紙の厚さは{:,.17g}m になり、\\\n",
    "      \\n地球から最も近い恒星 プロシマ・ケンタウリまでの距離を超えます。\"\n",
    "      .format(folded_thickness_list[0], count, folded_thickness_list[-1]))"
   ]
  },
  {
   "cell_type": "markdown",
   "metadata": {
    "colab_type": "text",
    "id": "kaYgA5CyRg8C"
   },
   "source": [
    "### 【問題3】必要な紙の長さ"
   ]
  },
  {
   "cell_type": "markdown",
   "metadata": {
    "colab_type": "text",
    "id": "ty3pOXTbRnW0"
   },
   "source": [
    "実際のところ身近にある紙は43回はおろか10回も折れません。\\\n",
    "しかし、大きな紙ほどたくさん折ることができ、\\\n",
    "トイレットペーパーのような長い紙を一方向に折ることを考えた時の折れる回数を求める公式が存在します。\n",
    "\n",
    "厚さ $t_{0}$ の紙をn回折るために必要な紙の長さLは以下の公式で求まります。\\\n",
    "L = π\\*t0\\*(2\\*\\*n+4)\\*(2\\*\\*n-1)/6\n",
    "\n",
    "この公式を利用して、実際に紙を折り任意の厚さに到達するために必要な紙の長さを求める関数を作成してください。\\\n",
    "そしてこれを使って「月」「富士山」「最も近い太陽以外の恒星」に届くために必要な紙の長さを求めてください。"
   ]
  },
  {
   "cell_type": "code",
   "execution_count": 6,
   "metadata": {
    "colab": {},
    "colab_type": "code",
    "id": "qJs8BPdARoGs"
   },
   "outputs": [],
   "source": [
    "def compute_paper_length(distance):\n",
    "    count, _ = folding_num_calc(THICKNESS, distance)\n",
    "    length = math.pi * THICKNESS * (2**count + 4) * (2**count - 1) / 6\n",
    "    return length"
   ]
  },
  {
   "cell_type": "markdown",
   "metadata": {},
   "source": [
    "- 「月」に届くために必要な紙の長さ"
   ]
  },
  {
   "cell_type": "code",
   "execution_count": 7,
   "metadata": {},
   "outputs": [],
   "source": [
    "length = compute_paper_length(DISTANCE_FROM_EARTH_TO_MOON)\n",
    "print(\"{:,.100g}m\".format(length))"
   ]
  },
  {
   "cell_type": "markdown",
   "metadata": {},
   "source": [
    "- 「富士山」に届くために必要な紙の長さ"
   ]
  },
  {
   "cell_type": "code",
   "execution_count": 8,
   "metadata": {},
   "outputs": [
    {
     "name": "stdout",
     "output_type": "stream",
     "text": [
      "188,646,348,487.240142822265625m\n"
     ]
    }
   ],
   "source": [
    "length = compute_paper_length(DISTANCE_FROM_EARTH_TO_MTFUJI)\n",
    "print(\"{:,.100g}m\".format(length))"
   ]
  },
  {
   "cell_type": "markdown",
   "metadata": {},
   "source": [
    "- 「最も近い太陽以外の恒星」に届くために必要な紙の長さ"
   ]
  },
  {
   "cell_type": "code",
   "execution_count": 9,
   "metadata": {},
   "outputs": [
    {
     "name": "stdout",
     "output_type": "stream",
     "text": [
      "14,595,803,601,100,347,983,589,756,318,297,096,192m\n"
     ]
    }
   ],
   "source": [
    "length = compute_paper_length(DISTANCE_FROM_EARTH_TO_PROXIMA)\n",
    "print(\"{:,.100g}m\".format(length))"
   ]
  },
  {
   "cell_type": "code",
   "execution_count": null,
   "metadata": {},
   "outputs": [],
   "source": []
  }
 ],
 "metadata": {
  "colab": {
   "collapsed_sections": [],
   "name": "week1 授業課題1 何回折ったら富士山を超えるか問題.ipynb",
   "provenance": []
  },
  "kernelspec": {
   "display_name": "Python 3",
   "language": "python",
   "name": "python3"
  },
  "language_info": {
   "codemirror_mode": {
    "name": "ipython",
    "version": 3
   },
   "file_extension": ".py",
   "mimetype": "text/x-python",
   "name": "python",
   "nbconvert_exporter": "python",
   "pygments_lexer": "ipython3",
   "version": "3.7.4"
  }
 },
 "nbformat": 4,
 "nbformat_minor": 1
}
