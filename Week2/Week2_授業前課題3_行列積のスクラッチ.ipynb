{
 "cells": [
  {
   "cell_type": "code",
   "execution_count": 1,
   "metadata": {},
   "outputs": [],
   "source": [
    "import numpy as np"
   ]
  },
  {
   "cell_type": "code",
   "execution_count": 2,
   "metadata": {},
   "outputs": [],
   "source": [
    "a_ndarray = np.array([[-1, 2, 3], [4, -5, 6], [7, 8, -9]])\n",
    "b_ndarray = np.array([[0, 2, 1], [0, 2, -8], [2, 9, -1]])"
   ]
  },
  {
   "cell_type": "markdown",
   "metadata": {},
   "source": [
    "### 【問題1】行列積を手計算する\n",
    "\n",
    "AとBの行列積を手計算で解いてください。\n",
    "\n",
    "計算過程もマークダウンテキストを用いて説明してください。"
   ]
  },
  {
   "cell_type": "markdown",
   "metadata": {},
   "source": [
    "- 数式\n",
    "$$\n",
    "c_{i,j}=\\sum^{2}_{k=0}a_{i,k}b_{k,j}\n",
    "$$"
   ]
  },
  {
   "cell_type": "markdown",
   "metadata": {},
   "source": [
    "$$\n",
    "A =\n",
    "\\begin{bmatrix}\n",
    "-1 & 2 & 3 \\\\ 4 & -5 & 6 \\\\ 7 & 8 & -9\n",
    "\\end{bmatrix} \\quad\n",
    ",B =\n",
    "\\begin{bmatrix}\n",
    "0 & 2 & 1 \\\\ 0 & 2 & -8 \\\\ 2 & 9 & -1\n",
    "\\end{bmatrix}\n",
    "$$"
   ]
  },
  {
   "cell_type": "markdown",
   "metadata": {},
   "source": [
    "- AとBの行列積の式\\\n",
    "\\begin{eqnarray}\n",
    "6, 29, -20 &=& -1*0+2*0+3*2, -1*2+2*2+3*9, -1*1+2*-8+3*-1\\\\\n",
    "12, 52, 38 &=& 4*0+-5*0+6*2, 4*2+-5*2+6*9, 4*1+-5*-8+6*-1\\\\\n",
    "-18, -51, -48 &=& 7*0+8*0+-9*2, 7*2+8*2+-9*9, 7*1+8*-8+-9*-1\n",
    "\\end{eqnarray}"
   ]
  },
  {
   "cell_type": "markdown",
   "metadata": {},
   "source": [
    "- AとBの行列積の結果\\\n",
    "\\begin{bmatrix}\n",
    "6 & 29 & -20 \\\\ 12 & 52 & 38 \\\\ -18 & -51 & -48\n",
    "\\end{bmatrix}"
   ]
  },
  {
   "cell_type": "markdown",
   "metadata": {},
   "source": [
    "### 【問題2】NumPyの関数による計算\n",
    "\n",
    "この行列積はNumPyのnp.matmul()やnp.dot()、または@演算子を使うことで簡単に計算できます。\n",
    "\n",
    "\n",
    "これらを使い行列積を計算してください。\n",
    "\n",
    "《3種類の違い》\n",
    "\n",
    "\n",
    "np.matmul()とnp.dot()は3次元以上の配列で挙動が変わります。@演算子はnp.matmul()と同じ働きをします。\n",
    "\n",
    "\n",
    "今回のような2次元配列の行列積ではnp.matmul()や@演算子が公式に推奨されています。以下はnp.dot()の説明からの引用です。\n",
    "\n",
    "\n",
    "If both a and b are 2-D arrays, it is matrix multiplication, but using matmul or a @ b is preferred."
   ]
  },
  {
   "cell_type": "markdown",
   "metadata": {},
   "source": [
    "- np.matmul()"
   ]
  },
  {
   "cell_type": "code",
   "execution_count": 3,
   "metadata": {},
   "outputs": [
    {
     "data": {
      "text/plain": [
       "array([[  6,  29, -20],\n",
       "       [ 12,  52,  38],\n",
       "       [-18, -51, -48]])"
      ]
     },
     "execution_count": 3,
     "metadata": {},
     "output_type": "execute_result"
    }
   ],
   "source": [
    "np.matmul(a_ndarray, b_ndarray)"
   ]
  },
  {
   "cell_type": "markdown",
   "metadata": {},
   "source": [
    "- np.dot()"
   ]
  },
  {
   "cell_type": "code",
   "execution_count": 4,
   "metadata": {},
   "outputs": [
    {
     "data": {
      "text/plain": [
       "array([[  6,  29, -20],\n",
       "       [ 12,  52,  38],\n",
       "       [-18, -51, -48]])"
      ]
     },
     "execution_count": 4,
     "metadata": {},
     "output_type": "execute_result"
    }
   ],
   "source": [
    "np.dot(a_ndarray, b_ndarray)"
   ]
  },
  {
   "cell_type": "markdown",
   "metadata": {},
   "source": [
    "- @演算子"
   ]
  },
  {
   "cell_type": "code",
   "execution_count": 5,
   "metadata": {},
   "outputs": [
    {
     "data": {
      "text/plain": [
       "array([[  6,  29, -20],\n",
       "       [ 12,  52,  38],\n",
       "       [-18, -51, -48]])"
      ]
     },
     "execution_count": 5,
     "metadata": {},
     "output_type": "execute_result"
    }
   ],
   "source": [
    "a_ndarray@b_ndarray"
   ]
  },
  {
   "cell_type": "markdown",
   "metadata": {},
   "source": [
    "### 【問題3】ある要素の計算を実装\n",
    "\n",
    "手計算をする際はまず行列Aの0行目と行列Bの0列目に注目し、以下の計算を行ったかと思います。\n",
    "\n",
    "\n",
    "- 1. 行列Aの(0,0)の要素 $a_{0, 0}$ と行列Bの(0,0)の要素 $b_{0, 0}$ を掛け合わせる\n",
    "- 2. 行列Aの(0,1)の要素 $a_{0, 1}$ と行列Bの(1,0)の要素 $b_{1, 0}$ を掛け合わせる\n",
    "- 3. 行列Aの(0,2)の要素 $a_{0, 2}$ と行列Bの(2,0)の要素 $b_{2, 0}$ を掛け合わせる\n",
    "- 4. それらの値を全て足し合わせる\n",
    "\n",
    "この計算をnp.matmul()やnp.dot()、または@演算子を使わずに行うコードを書いてください。"
   ]
  },
  {
   "cell_type": "code",
   "execution_count": 6,
   "metadata": {},
   "outputs": [],
   "source": [
    "r_ndarray = [a_ndarray[0][0]*b_ndarray[0][0]+a_ndarray[0][1]*b_ndarray[1][0]+a_ndarray[0][2]*b_ndarray[2][0]]"
   ]
  },
  {
   "cell_type": "code",
   "execution_count": 7,
   "metadata": {},
   "outputs": [
    {
     "data": {
      "text/plain": [
       "[6]"
      ]
     },
     "execution_count": 7,
     "metadata": {},
     "output_type": "execute_result"
    }
   ],
   "source": [
    "r_ndarray"
   ]
  },
  {
   "cell_type": "markdown",
   "metadata": {},
   "source": [
    "### 【問題4】行列積を行う関数の作成\n",
    "\n",
    "問題3のコードを拡張し、行列積のスクラッチ実装を完成させてください。行列AとBを引数に受け取り、行列積を返す関数としてください。\n",
    "\n",
    "\n",
    "行列積を計算する場合は、問題3の計算を異なる行や列に対して繰り返していくことになります。\n",
    "\n",
    "\n",
    "計算結果である $3 \\times 3$ の行列Cの各要素 $c_{i, j}$ は数式で表すと次のようになります。\n",
    "\n",
    "for文を使い、ndarrayのインデックスを動かしていくことで、合計9つの要素が計算できます。\\\n",
    "インデックス $i$ や $j$ を1増やすと、次の行や列に移ることができます。\n",
    "\n"
   ]
  },
  {
   "cell_type": "markdown",
   "metadata": {},
   "source": [
    "- 手計算 "
   ]
  },
  {
   "cell_type": "code",
   "execution_count": 8,
   "metadata": {},
   "outputs": [],
   "source": [
    "def compute_matrix_product(a_array, b_array):\n",
    "    \"\"\"\n",
    "    行列AとBを引数に受け取り、行列積を返す関数。\n",
    "\n",
    "    Parameters\n",
    "    --------------\n",
    "    a_array: ndarray\n",
    "    b_array: ndarray\n",
    "\n",
    "    Returns\n",
    "    --------------\n",
    "    c_ndarray: list\n",
    "    \"\"\"\n",
    "    c_ndarray = [[a_array[0][0]*b_array[0][0]+a_array[0][1]*b_array[1][0]+a_array[0][2]*b_array[2][0],\n",
    "                  a_array[0][0]*b_array[0][1]+a_array[0][1]*b_array[1][1]+a_array[0][2]*b_array[2][1],\n",
    "                  a_array[0][0]*b_array[0][2]+a_array[0][1]*b_array[1][2]+a_array[0][2]*b_array[2][2]],\n",
    "                 [a_array[1][0]*b_array[0][0]+a_array[1][1]*b_array[1][0]+a_array[1][2]*b_array[2][0],\n",
    "                  a_array[1][0]*b_array[0][1]+a_array[1][1]*b_array[1][1]+a_array[1][2]*b_array[2][1],\n",
    "                  a_array[1][0]*b_array[0][2]+a_array[1][1]*b_array[1][2]+a_array[1][2]*b_array[2][2]],\n",
    "                 [a_array[2][0]*b_array[0][0]+a_array[2][1]*b_array[1][0]+a_array[2][2]*b_array[2][0],\n",
    "                  a_array[2][0]*b_array[0][1]+a_array[2][1]*b_array[1][1]+a_array[2][2]*b_array[2][1],\n",
    "                  a_array[2][0]*b_array[0][2]+a_array[2][1]*b_array[1][2]+a_array[2][2]*b_array[2][2]]]    \n",
    "    return c_ndarray"
   ]
  },
  {
   "cell_type": "code",
   "execution_count": 9,
   "metadata": {},
   "outputs": [
    {
     "data": {
      "text/plain": [
       "array([[  6,  29, -20],\n",
       "       [ 12,  52,  38],\n",
       "       [-18, -51, -48]])"
      ]
     },
     "execution_count": 9,
     "metadata": {},
     "output_type": "execute_result"
    }
   ],
   "source": [
    "c_ndarray = compute_matrix_product(a_ndarray, b_ndarray)\n",
    "np.array(c_ndarray)"
   ]
  },
  {
   "cell_type": "markdown",
   "metadata": {},
   "source": [
    "- for文(参考)"
   ]
  },
  {
   "cell_type": "code",
   "execution_count": 10,
   "metadata": {},
   "outputs": [],
   "source": [
    "def compute_matrix_product_for_loop(a_array, b_array):\n",
    "    \"\"\"\n",
    "    行列AとBを引数に受け取り、行列積を返す関数。\n",
    "\n",
    "    Parameters\n",
    "    --------------\n",
    "    a_array: ndarray\n",
    "    b_array: ndarray\n",
    "\n",
    "    Returns\n",
    "    --------------\n",
    "    c_ndarray_ref: ndarray\n",
    "    \"\"\"\n",
    "    c_ndarray_ref = np.zeros((a_array.shape[0], b_array.shape[1])).astype('int64')\n",
    "    for i in range(a_array.shape[0]):\n",
    "        for j in range(b_array.shape[1]):\n",
    "            element = 0\n",
    "            for k in range(a_array.shape[1]):\n",
    "                element += a_array[i][k]*b_array[k][j]\n",
    "            c_ndarray_ref[i][j] = element\n",
    "    return c_ndarray_ref"
   ]
  },
  {
   "cell_type": "code",
   "execution_count": 11,
   "metadata": {},
   "outputs": [
    {
     "data": {
      "text/plain": [
       "array([[  6,  29, -20],\n",
       "       [ 12,  52,  38],\n",
       "       [-18, -51, -48]])"
      ]
     },
     "execution_count": 11,
     "metadata": {},
     "output_type": "execute_result"
    }
   ],
   "source": [
    "c_ndarray_ref = compute_matrix_product_for_loop(a_ndarray, b_ndarray)\n",
    "c_ndarray_ref"
   ]
  },
  {
   "cell_type": "markdown",
   "metadata": {},
   "source": [
    "### 【問題5】計算が定義されない入力を判定する\n",
    "\n",
    "問題4で作成した関数は、実装方法によってはこのDとEの配列を入力しても動いてしまう可能性があります。\\\n",
    "この場合、不適切な計算が行われることになります。\\\n",
    "また、途中でエラーになる場合でも、なぜエラーになったかが直接的には分かりづらいメッセージが表示されます。\n",
    "\n",
    "\n",
    "if文などによってこれを防ぎ、入力される形に問題があることをprint()を使い表示するコードを書き加えてください。"
   ]
  },
  {
   "cell_type": "code",
   "execution_count": 12,
   "metadata": {},
   "outputs": [],
   "source": [
    "def compute_matrix_product_with_detect(d_array, e_array):\n",
    "    \"\"\"\n",
    "    行列DとEを引数に受け取り、行列積が定義されない入力を判定した上で、行列積を返す関数。\n",
    "\n",
    "    Parameters\n",
    "    --------------\n",
    "    d_array: ndarray\n",
    "    e_array: ndarray\n",
    "\n",
    "    Returns\n",
    "    --------------\n",
    "    c_ndarray_q5: ndarray\n",
    "    Nothing: D行列の列数とE行列の行数が不一致の場合\n",
    "    \"\"\"\n",
    "    if d_array.shape[1] == e_array.shape[0]:\n",
    "        c_ndarray_q5 = np.zeros((d_array.shape[0], e_array.shape[1])).astype('int64')\n",
    "        for i in range(d_array.shape[0]):\n",
    "            for j in range(e_array.shape[1]):\n",
    "                element = 0\n",
    "                for k in range(d_array.shape[1]):\n",
    "                    element += d_array[i][k]*e_array[k][j]\n",
    "                c_ndarray_q5[i][j] = element\n",
    "    else:\n",
    "        print(\"D行列の列数とE行列の行数が不一致です。\")\n",
    "        return\n",
    "    return c_ndarray_q5"
   ]
  },
  {
   "cell_type": "code",
   "execution_count": 13,
   "metadata": {},
   "outputs": [],
   "source": [
    "d_ndarray = np.array([[-1, 2, 3], [4, -5, 6]])\n",
    "e_ndarray = np.array([[-9, 8, 7], [6, -5, 4]])"
   ]
  },
  {
   "cell_type": "code",
   "execution_count": 14,
   "metadata": {},
   "outputs": [
    {
     "name": "stdout",
     "output_type": "stream",
     "text": [
      "D行列の列数とE行列の行数が不一致です。\n"
     ]
    }
   ],
   "source": [
    "c_ndarray_q5 = compute_matrix_product_with_detect(d_ndarray, e_ndarray)\n",
    "c_ndarray_q5"
   ]
  },
  {
   "cell_type": "markdown",
   "metadata": {},
   "source": [
    "### 【問題6】転置\n",
    "\n",
    "片方の行列を転置することで、行列積が計算できるようになります。\n",
    "\n",
    "\n",
    "np.transpose()や.Tアトリビュートを用いて転置し、行列積を計算してください。"
   ]
  },
  {
   "cell_type": "markdown",
   "metadata": {},
   "source": [
    "- np.transpose()"
   ]
  },
  {
   "cell_type": "code",
   "execution_count": 15,
   "metadata": {},
   "outputs": [
    {
     "data": {
      "text/plain": [
       "array([[ 46,  -4],\n",
       "       [-34,  73]])"
      ]
     },
     "execution_count": 15,
     "metadata": {},
     "output_type": "execute_result"
    }
   ],
   "source": [
    "c_ndarray_q5 = compute_matrix_product_with_detect(d_ndarray, np.transpose(e_ndarray))\n",
    "c_ndarray_q5"
   ]
  },
  {
   "cell_type": "code",
   "execution_count": 16,
   "metadata": {},
   "outputs": [
    {
     "data": {
      "text/plain": [
       "array([[ 33, -28,   9],\n",
       "       [-48,  41,  -6],\n",
       "       [  9,  -6,  45]])"
      ]
     },
     "execution_count": 16,
     "metadata": {},
     "output_type": "execute_result"
    }
   ],
   "source": [
    "c_ndarray_q5 = compute_matrix_product_with_detect(np.transpose(d_ndarray), e_ndarray)\n",
    "c_ndarray_q5"
   ]
  },
  {
   "cell_type": "markdown",
   "metadata": {},
   "source": [
    "- .Tアトリビュート"
   ]
  },
  {
   "cell_type": "code",
   "execution_count": 17,
   "metadata": {},
   "outputs": [
    {
     "data": {
      "text/plain": [
       "array([[ 46,  -4],\n",
       "       [-34,  73]])"
      ]
     },
     "execution_count": 17,
     "metadata": {},
     "output_type": "execute_result"
    }
   ],
   "source": [
    "c_ndarray_q5 = compute_matrix_product_with_detect(d_ndarray, e_ndarray.T)\n",
    "c_ndarray_q5"
   ]
  },
  {
   "cell_type": "code",
   "execution_count": 18,
   "metadata": {},
   "outputs": [
    {
     "data": {
      "text/plain": [
       "array([[ 33, -28,   9],\n",
       "       [-48,  41,  -6],\n",
       "       [  9,  -6,  45]])"
      ]
     },
     "execution_count": 18,
     "metadata": {},
     "output_type": "execute_result"
    }
   ],
   "source": [
    "c_ndarray_q5 = compute_matrix_product_with_detect(d_ndarray.T, e_ndarray)\n",
    "c_ndarray_q5"
   ]
  }
 ],
 "metadata": {
  "kernelspec": {
   "display_name": "Python 3",
   "language": "python",
   "name": "python3"
  },
  "language_info": {
   "codemirror_mode": {
    "name": "ipython",
    "version": 3
   },
   "file_extension": ".py",
   "mimetype": "text/x-python",
   "name": "python",
   "nbconvert_exporter": "python",
   "pygments_lexer": "ipython3",
   "version": "3.7.4"
  }
 },
 "nbformat": 4,
 "nbformat_minor": 2
}
